{
  "nbformat": 4,
  "nbformat_minor": 0,
  "metadata": {
    "colab": {
      "name": "ProbInf_TH2.ipynb",
      "provenance": [],
      "collapsed_sections": [
        "fNaPVhEJefZv"
      ],
      "toc_visible": true,
      "include_colab_link": true
    },
    "kernelspec": {
      "name": "python3",
      "display_name": "Python 3"
    },
    "language_info": {
      "name": "python"
    }
  },
  "cells": [
    {
      "cell_type": "markdown",
      "metadata": {
        "id": "view-in-github",
        "colab_type": "text"
      },
      "source": [
        "<a href=\"https://colab.research.google.com/github/GabrielBMiranda/Prob_Inf_-_SHT2/blob/main/ProbInf_TH2.ipynb\" target=\"_parent\"><img src=\"https://colab.research.google.com/assets/colab-badge.svg\" alt=\"Open In Colab\"/></a>"
      ]
    },
    {
      "cell_type": "markdown",
      "metadata": {
        "id": "nz3HBwncoe0y"
      },
      "source": [
        "# <font color=gray> Probabilidade e Inferência Estatística</font>\n",
        "### Testes de Hipóteses para Duas Populações\n",
        "\n",
        "Programa de Pós-Graduação em Matemática\n",
        "\n",
        "> Autor: Gabriel Brandão de Miranda \n",
        "\n",
        "> Pós-Graduação em Modelagem Computacional\n",
        "\n",
        "> Julho de 2021\n",
        "\n",
        "**Esse notebook explora uma base de dados de jogadores de futebol no ano de 2018 e emprega testes de hipóteses para verificar com algum nível de confiança que jogadores brasileiros são melhores, piores ou possuem a mesma habilidade que jogadores de outros países, partindo da hipótese de que a habilidade futebolística não varia geograficamente. Destaco ainda que o notebook tem por objetivo principal o estudo dos métodos de testes de hipóteses no contexto de duas populações. Desse modo, não foram levados em consideração possíveis problemas ao fazer hipóteses de normalidade e estratificação dos dados.**\n",
        "\n",
        "- *Uma nova seção foi adicionada ao notebook a título de curiosidade do autor para avaliar uma abordagem bayesiana sobre o mesmo problema.*"
      ]
    },
    {
      "cell_type": "markdown",
      "metadata": {
        "id": "fNaPVhEJefZv"
      },
      "source": [
        "## <font color=gray> Preliminares </font>\n",
        "Antes começarmos com o trabalho importamos algumas bibliotecas úteis para tratamento e análise exploratória de dados e ainda baixamos os dados para o ambiente virtual do `Google Colab`, trazendo de um local do `Google Drive`."
      ]
    },
    {
      "cell_type": "code",
      "metadata": {
        "id": "rtPxZH0TmCQw",
        "colab": {
          "base_uri": "https://localhost:8080/"
        },
        "outputId": "90553ba2-daa0-4d6a-91f3-9f50a7ee6573"
      },
      "source": [
        "import pandas as pd\n",
        "import numpy as np\n",
        "import matplotlib.pyplot as plt\n",
        "import seaborn as sns\n",
        "from IPython.display import display, Markdown\n",
        "\n",
        "def disp( s ):\n",
        "  display(Markdown(s))\n",
        "\n",
        "plt.style.use('seaborn') \n",
        "plt.rcParams['mathtext.fontset'] = 'stix'\n",
        "plt.rcParams['font.family'] = 'STIXGeneral'\n",
        "\n",
        "!gdown 'https://drive.google.com/uc?id=12DNsZiVjwuaQYy6n3AIQHEYhFRZ8AH-6'"
      ],
      "execution_count": null,
      "outputs": [
        {
          "output_type": "stream",
          "name": "stdout",
          "text": [
            "Downloading...\n",
            "From: https://drive.google.com/uc?id=12DNsZiVjwuaQYy6n3AIQHEYhFRZ8AH-6\n",
            "To: /content/soccer_players.csv\n",
            "100% 3.93M/3.93M [00:00<00:00, 18.4MB/s]\n"
          ]
        }
      ]
    },
    {
      "cell_type": "markdown",
      "metadata": {
        "id": "N_nYbrIYnnVl"
      },
      "source": [
        "# <font color=green>1 CONHECENDO OS DADOS</font>\n",
        "---\n",
        "\n",
        "Base de Dados: [Estatísticas de Jogadores Profissionais de Futebol em 2018](https://www.kaggle.com/antoinekrajnc/soccer-players-statistics)\n",
        "\n",
        "A fim de apresentar o universo em que se pretende trabalhar, fazemos uma breve etapa de exploração e tratamento dos dados nesta seção.\n",
        "***"
      ]
    },
    {
      "cell_type": "markdown",
      "metadata": {
        "id": "OnvKHzcjgUs3"
      },
      "source": [
        "## <font color=green> 1.1 Importação dos Dados </font>\n",
        "\n",
        "Primeiramente importamos os dados brutos e apresentamos uma pequena amostra dos dados bem como algumas estatísticas de resumo desses mesmos dados."
      ]
    },
    {
      "cell_type": "code",
      "metadata": {
        "id": "dL7PhWqbnjvY",
        "colab": {
          "base_uri": "https://localhost:8080/",
          "height": 583
        },
        "outputId": "5086ee9d-2f4b-4e21-88de-afc9bc6f8dec"
      },
      "source": [
        "raw_data = pd.read_csv('soccer_players.csv')\n",
        "raw_data.sample(10)"
      ],
      "execution_count": null,
      "outputs": [
        {
          "output_type": "execute_result",
          "data": {
            "text/html": [
              "<div>\n",
              "<style scoped>\n",
              "    .dataframe tbody tr th:only-of-type {\n",
              "        vertical-align: middle;\n",
              "    }\n",
              "\n",
              "    .dataframe tbody tr th {\n",
              "        vertical-align: top;\n",
              "    }\n",
              "\n",
              "    .dataframe thead th {\n",
              "        text-align: right;\n",
              "    }\n",
              "</style>\n",
              "<table border=\"1\" class=\"dataframe\">\n",
              "  <thead>\n",
              "    <tr style=\"text-align: right;\">\n",
              "      <th></th>\n",
              "      <th>Name</th>\n",
              "      <th>Nationality</th>\n",
              "      <th>National_Position</th>\n",
              "      <th>National_Kit</th>\n",
              "      <th>Club</th>\n",
              "      <th>Club_Position</th>\n",
              "      <th>Club_Kit</th>\n",
              "      <th>Club_Joining</th>\n",
              "      <th>Contract_Expiry</th>\n",
              "      <th>Rating</th>\n",
              "      <th>Height</th>\n",
              "      <th>Weight</th>\n",
              "      <th>Preffered_Foot</th>\n",
              "      <th>Birth_Date</th>\n",
              "      <th>Age</th>\n",
              "      <th>Preffered_Position</th>\n",
              "      <th>Work_Rate</th>\n",
              "      <th>Weak_foot</th>\n",
              "      <th>Skill_Moves</th>\n",
              "      <th>Ball_Control</th>\n",
              "      <th>Dribbling</th>\n",
              "      <th>Marking</th>\n",
              "      <th>Sliding_Tackle</th>\n",
              "      <th>Standing_Tackle</th>\n",
              "      <th>Aggression</th>\n",
              "      <th>Reactions</th>\n",
              "      <th>Attacking_Position</th>\n",
              "      <th>Interceptions</th>\n",
              "      <th>Vision</th>\n",
              "      <th>Composure</th>\n",
              "      <th>Crossing</th>\n",
              "      <th>Short_Pass</th>\n",
              "      <th>Long_Pass</th>\n",
              "      <th>Acceleration</th>\n",
              "      <th>Speed</th>\n",
              "      <th>Stamina</th>\n",
              "      <th>Strength</th>\n",
              "      <th>Balance</th>\n",
              "      <th>Agility</th>\n",
              "      <th>Jumping</th>\n",
              "      <th>Heading</th>\n",
              "      <th>Shot_Power</th>\n",
              "      <th>Finishing</th>\n",
              "      <th>Long_Shots</th>\n",
              "      <th>Curve</th>\n",
              "      <th>Freekick_Accuracy</th>\n",
              "      <th>Penalties</th>\n",
              "      <th>Volleys</th>\n",
              "      <th>GK_Positioning</th>\n",
              "      <th>GK_Diving</th>\n",
              "      <th>GK_Kicking</th>\n",
              "      <th>GK_Handling</th>\n",
              "      <th>GK_Reflexes</th>\n",
              "    </tr>\n",
              "  </thead>\n",
              "  <tbody>\n",
              "    <tr>\n",
              "      <th>1881</th>\n",
              "      <td>Joel Ward</td>\n",
              "      <td>England</td>\n",
              "      <td>NaN</td>\n",
              "      <td>NaN</td>\n",
              "      <td>Crystal Palace</td>\n",
              "      <td>RB</td>\n",
              "      <td>2.0</td>\n",
              "      <td>05/01/2012</td>\n",
              "      <td>2018.0</td>\n",
              "      <td>75</td>\n",
              "      <td>188 cm</td>\n",
              "      <td>83 kg</td>\n",
              "      <td>Right</td>\n",
              "      <td>10/29/1989</td>\n",
              "      <td>27</td>\n",
              "      <td>RB/LB</td>\n",
              "      <td>Medium / Medium</td>\n",
              "      <td>3</td>\n",
              "      <td>2</td>\n",
              "      <td>67</td>\n",
              "      <td>64</td>\n",
              "      <td>77</td>\n",
              "      <td>77</td>\n",
              "      <td>78</td>\n",
              "      <td>74</td>\n",
              "      <td>73</td>\n",
              "      <td>64</td>\n",
              "      <td>77</td>\n",
              "      <td>68</td>\n",
              "      <td>73</td>\n",
              "      <td>73</td>\n",
              "      <td>70</td>\n",
              "      <td>69</td>\n",
              "      <td>68</td>\n",
              "      <td>69</td>\n",
              "      <td>77</td>\n",
              "      <td>78</td>\n",
              "      <td>63</td>\n",
              "      <td>66</td>\n",
              "      <td>66</td>\n",
              "      <td>75</td>\n",
              "      <td>68</td>\n",
              "      <td>46</td>\n",
              "      <td>63</td>\n",
              "      <td>43</td>\n",
              "      <td>34</td>\n",
              "      <td>40</td>\n",
              "      <td>33</td>\n",
              "      <td>10</td>\n",
              "      <td>8</td>\n",
              "      <td>7</td>\n",
              "      <td>7</td>\n",
              "      <td>11</td>\n",
              "    </tr>\n",
              "    <tr>\n",
              "      <th>8950</th>\n",
              "      <td>Christophe Diedhiou</td>\n",
              "      <td>Senegal</td>\n",
              "      <td>NaN</td>\n",
              "      <td>NaN</td>\n",
              "      <td>GFC Ajaccio</td>\n",
              "      <td>Sub</td>\n",
              "      <td>25.0</td>\n",
              "      <td>07/16/2016</td>\n",
              "      <td>2018.0</td>\n",
              "      <td>66</td>\n",
              "      <td>190 cm</td>\n",
              "      <td>76 kg</td>\n",
              "      <td>Right</td>\n",
              "      <td>01/08/1988</td>\n",
              "      <td>29</td>\n",
              "      <td>CB/LB</td>\n",
              "      <td>Medium / Medium</td>\n",
              "      <td>3</td>\n",
              "      <td>2</td>\n",
              "      <td>39</td>\n",
              "      <td>35</td>\n",
              "      <td>65</td>\n",
              "      <td>66</td>\n",
              "      <td>69</td>\n",
              "      <td>72</td>\n",
              "      <td>50</td>\n",
              "      <td>23</td>\n",
              "      <td>65</td>\n",
              "      <td>32</td>\n",
              "      <td>47</td>\n",
              "      <td>25</td>\n",
              "      <td>47</td>\n",
              "      <td>32</td>\n",
              "      <td>73</td>\n",
              "      <td>75</td>\n",
              "      <td>61</td>\n",
              "      <td>77</td>\n",
              "      <td>50</td>\n",
              "      <td>45</td>\n",
              "      <td>56</td>\n",
              "      <td>68</td>\n",
              "      <td>34</td>\n",
              "      <td>24</td>\n",
              "      <td>22</td>\n",
              "      <td>28</td>\n",
              "      <td>32</td>\n",
              "      <td>39</td>\n",
              "      <td>24</td>\n",
              "      <td>6</td>\n",
              "      <td>16</td>\n",
              "      <td>6</td>\n",
              "      <td>11</td>\n",
              "      <td>13</td>\n",
              "    </tr>\n",
              "    <tr>\n",
              "      <th>14069</th>\n",
              "      <td>Shannon Gomez</td>\n",
              "      <td>Trinidad &amp; Tobago</td>\n",
              "      <td>NaN</td>\n",
              "      <td>NaN</td>\n",
              "      <td>NYCFC</td>\n",
              "      <td>Sub</td>\n",
              "      <td>52.0</td>\n",
              "      <td>01/04/2017</td>\n",
              "      <td>2020.0</td>\n",
              "      <td>60</td>\n",
              "      <td>170 cm</td>\n",
              "      <td>64 kg</td>\n",
              "      <td>Right</td>\n",
              "      <td>10/05/1996</td>\n",
              "      <td>20</td>\n",
              "      <td>RB/RW</td>\n",
              "      <td>Medium / High</td>\n",
              "      <td>3</td>\n",
              "      <td>2</td>\n",
              "      <td>49</td>\n",
              "      <td>52</td>\n",
              "      <td>52</td>\n",
              "      <td>55</td>\n",
              "      <td>57</td>\n",
              "      <td>69</td>\n",
              "      <td>56</td>\n",
              "      <td>47</td>\n",
              "      <td>58</td>\n",
              "      <td>41</td>\n",
              "      <td>53</td>\n",
              "      <td>51</td>\n",
              "      <td>52</td>\n",
              "      <td>41</td>\n",
              "      <td>83</td>\n",
              "      <td>79</td>\n",
              "      <td>79</td>\n",
              "      <td>68</td>\n",
              "      <td>84</td>\n",
              "      <td>64</td>\n",
              "      <td>61</td>\n",
              "      <td>41</td>\n",
              "      <td>46</td>\n",
              "      <td>35</td>\n",
              "      <td>40</td>\n",
              "      <td>52</td>\n",
              "      <td>38</td>\n",
              "      <td>54</td>\n",
              "      <td>39</td>\n",
              "      <td>14</td>\n",
              "      <td>11</td>\n",
              "      <td>9</td>\n",
              "      <td>11</td>\n",
              "      <td>11</td>\n",
              "    </tr>\n",
              "    <tr>\n",
              "      <th>16815</th>\n",
              "      <td>Marcin Mielczarski</td>\n",
              "      <td>Poland</td>\n",
              "      <td>NaN</td>\n",
              "      <td>NaN</td>\n",
              "      <td>Wisła Płock</td>\n",
              "      <td>Res</td>\n",
              "      <td>4.0</td>\n",
              "      <td>01/14/2017</td>\n",
              "      <td>2019.0</td>\n",
              "      <td>53</td>\n",
              "      <td>176 cm</td>\n",
              "      <td>65 kg</td>\n",
              "      <td>Left</td>\n",
              "      <td>05/24/1998</td>\n",
              "      <td>18</td>\n",
              "      <td>LB</td>\n",
              "      <td>Medium / Medium</td>\n",
              "      <td>2</td>\n",
              "      <td>2</td>\n",
              "      <td>45</td>\n",
              "      <td>54</td>\n",
              "      <td>49</td>\n",
              "      <td>51</td>\n",
              "      <td>52</td>\n",
              "      <td>47</td>\n",
              "      <td>55</td>\n",
              "      <td>46</td>\n",
              "      <td>53</td>\n",
              "      <td>40</td>\n",
              "      <td>35</td>\n",
              "      <td>51</td>\n",
              "      <td>41</td>\n",
              "      <td>38</td>\n",
              "      <td>66</td>\n",
              "      <td>62</td>\n",
              "      <td>57</td>\n",
              "      <td>41</td>\n",
              "      <td>68</td>\n",
              "      <td>52</td>\n",
              "      <td>55</td>\n",
              "      <td>45</td>\n",
              "      <td>30</td>\n",
              "      <td>31</td>\n",
              "      <td>31</td>\n",
              "      <td>40</td>\n",
              "      <td>30</td>\n",
              "      <td>36</td>\n",
              "      <td>28</td>\n",
              "      <td>8</td>\n",
              "      <td>9</td>\n",
              "      <td>6</td>\n",
              "      <td>8</td>\n",
              "      <td>10</td>\n",
              "    </tr>\n",
              "    <tr>\n",
              "      <th>11002</th>\n",
              "      <td>Borja</td>\n",
              "      <td>Spain</td>\n",
              "      <td>NaN</td>\n",
              "      <td>NaN</td>\n",
              "      <td>Sevilla Atlét.</td>\n",
              "      <td>Sub</td>\n",
              "      <td>18.0</td>\n",
              "      <td>08/16/2016</td>\n",
              "      <td>2019.0</td>\n",
              "      <td>64</td>\n",
              "      <td>173 cm</td>\n",
              "      <td>67 kg</td>\n",
              "      <td>Right</td>\n",
              "      <td>03/16/1997</td>\n",
              "      <td>20</td>\n",
              "      <td>RB</td>\n",
              "      <td>Medium / High</td>\n",
              "      <td>3</td>\n",
              "      <td>2</td>\n",
              "      <td>53</td>\n",
              "      <td>59</td>\n",
              "      <td>59</td>\n",
              "      <td>67</td>\n",
              "      <td>63</td>\n",
              "      <td>71</td>\n",
              "      <td>61</td>\n",
              "      <td>44</td>\n",
              "      <td>65</td>\n",
              "      <td>41</td>\n",
              "      <td>47</td>\n",
              "      <td>61</td>\n",
              "      <td>56</td>\n",
              "      <td>29</td>\n",
              "      <td>72</td>\n",
              "      <td>71</td>\n",
              "      <td>67</td>\n",
              "      <td>64</td>\n",
              "      <td>82</td>\n",
              "      <td>61</td>\n",
              "      <td>70</td>\n",
              "      <td>54</td>\n",
              "      <td>48</td>\n",
              "      <td>31</td>\n",
              "      <td>29</td>\n",
              "      <td>53</td>\n",
              "      <td>37</td>\n",
              "      <td>46</td>\n",
              "      <td>30</td>\n",
              "      <td>10</td>\n",
              "      <td>15</td>\n",
              "      <td>12</td>\n",
              "      <td>10</td>\n",
              "      <td>11</td>\n",
              "    </tr>\n",
              "    <tr>\n",
              "      <th>7223</th>\n",
              "      <td>Manassé Enza-Yamissi</td>\n",
              "      <td>Central African Rep.</td>\n",
              "      <td>NaN</td>\n",
              "      <td>NaN</td>\n",
              "      <td>US Orléans</td>\n",
              "      <td>Sub</td>\n",
              "      <td>18.0</td>\n",
              "      <td>07/01/2015</td>\n",
              "      <td>2017.0</td>\n",
              "      <td>68</td>\n",
              "      <td>190 cm</td>\n",
              "      <td>82 kg</td>\n",
              "      <td>Left</td>\n",
              "      <td>09/28/1989</td>\n",
              "      <td>27</td>\n",
              "      <td>CB</td>\n",
              "      <td>Medium / High</td>\n",
              "      <td>3</td>\n",
              "      <td>2</td>\n",
              "      <td>57</td>\n",
              "      <td>60</td>\n",
              "      <td>67</td>\n",
              "      <td>63</td>\n",
              "      <td>65</td>\n",
              "      <td>68</td>\n",
              "      <td>50</td>\n",
              "      <td>46</td>\n",
              "      <td>69</td>\n",
              "      <td>23</td>\n",
              "      <td>72</td>\n",
              "      <td>56</td>\n",
              "      <td>63</td>\n",
              "      <td>57</td>\n",
              "      <td>74</td>\n",
              "      <td>78</td>\n",
              "      <td>72</td>\n",
              "      <td>82</td>\n",
              "      <td>47</td>\n",
              "      <td>60</td>\n",
              "      <td>74</td>\n",
              "      <td>63</td>\n",
              "      <td>59</td>\n",
              "      <td>33</td>\n",
              "      <td>30</td>\n",
              "      <td>43</td>\n",
              "      <td>28</td>\n",
              "      <td>37</td>\n",
              "      <td>27</td>\n",
              "      <td>8</td>\n",
              "      <td>10</td>\n",
              "      <td>7</td>\n",
              "      <td>9</td>\n",
              "      <td>11</td>\n",
              "    </tr>\n",
              "    <tr>\n",
              "      <th>9549</th>\n",
              "      <td>Chris Dagnall</td>\n",
              "      <td>England</td>\n",
              "      <td>NaN</td>\n",
              "      <td>NaN</td>\n",
              "      <td>Crewe Alexandra</td>\n",
              "      <td>RW</td>\n",
              "      <td>9.0</td>\n",
              "      <td>07/05/2016</td>\n",
              "      <td>2018.0</td>\n",
              "      <td>66</td>\n",
              "      <td>173 cm</td>\n",
              "      <td>75 kg</td>\n",
              "      <td>Right</td>\n",
              "      <td>04/15/1986</td>\n",
              "      <td>30</td>\n",
              "      <td>ST</td>\n",
              "      <td>High / High</td>\n",
              "      <td>3</td>\n",
              "      <td>3</td>\n",
              "      <td>64</td>\n",
              "      <td>65</td>\n",
              "      <td>21</td>\n",
              "      <td>14</td>\n",
              "      <td>24</td>\n",
              "      <td>56</td>\n",
              "      <td>60</td>\n",
              "      <td>69</td>\n",
              "      <td>33</td>\n",
              "      <td>56</td>\n",
              "      <td>67</td>\n",
              "      <td>41</td>\n",
              "      <td>55</td>\n",
              "      <td>49</td>\n",
              "      <td>72</td>\n",
              "      <td>71</td>\n",
              "      <td>75</td>\n",
              "      <td>68</td>\n",
              "      <td>74</td>\n",
              "      <td>72</td>\n",
              "      <td>70</td>\n",
              "      <td>57</td>\n",
              "      <td>67</td>\n",
              "      <td>67</td>\n",
              "      <td>66</td>\n",
              "      <td>42</td>\n",
              "      <td>41</td>\n",
              "      <td>64</td>\n",
              "      <td>65</td>\n",
              "      <td>15</td>\n",
              "      <td>8</td>\n",
              "      <td>13</td>\n",
              "      <td>7</td>\n",
              "      <td>14</td>\n",
              "    </tr>\n",
              "    <tr>\n",
              "      <th>13253</th>\n",
              "      <td>Ayaz Guliev</td>\n",
              "      <td>Russia</td>\n",
              "      <td>NaN</td>\n",
              "      <td>NaN</td>\n",
              "      <td>Anzhi Makhachkala</td>\n",
              "      <td>Sub</td>\n",
              "      <td>77.0</td>\n",
              "      <td>01/01/2013</td>\n",
              "      <td>2017.0</td>\n",
              "      <td>61</td>\n",
              "      <td>169 cm</td>\n",
              "      <td>64 kg</td>\n",
              "      <td>Right</td>\n",
              "      <td>02/27/1996</td>\n",
              "      <td>21</td>\n",
              "      <td>CDM/CAM</td>\n",
              "      <td>Medium / Medium</td>\n",
              "      <td>4</td>\n",
              "      <td>2</td>\n",
              "      <td>65</td>\n",
              "      <td>68</td>\n",
              "      <td>59</td>\n",
              "      <td>59</td>\n",
              "      <td>60</td>\n",
              "      <td>60</td>\n",
              "      <td>53</td>\n",
              "      <td>55</td>\n",
              "      <td>56</td>\n",
              "      <td>54</td>\n",
              "      <td>47</td>\n",
              "      <td>51</td>\n",
              "      <td>63</td>\n",
              "      <td>64</td>\n",
              "      <td>73</td>\n",
              "      <td>65</td>\n",
              "      <td>67</td>\n",
              "      <td>58</td>\n",
              "      <td>87</td>\n",
              "      <td>71</td>\n",
              "      <td>59</td>\n",
              "      <td>51</td>\n",
              "      <td>59</td>\n",
              "      <td>45</td>\n",
              "      <td>41</td>\n",
              "      <td>42</td>\n",
              "      <td>48</td>\n",
              "      <td>51</td>\n",
              "      <td>47</td>\n",
              "      <td>13</td>\n",
              "      <td>15</td>\n",
              "      <td>12</td>\n",
              "      <td>8</td>\n",
              "      <td>8</td>\n",
              "    </tr>\n",
              "    <tr>\n",
              "      <th>17387</th>\n",
              "      <td>Aaron Jones</td>\n",
              "      <td>England</td>\n",
              "      <td>NaN</td>\n",
              "      <td>NaN</td>\n",
              "      <td>Philadelphia</td>\n",
              "      <td>Res</td>\n",
              "      <td>19.0</td>\n",
              "      <td>01/13/2017</td>\n",
              "      <td>2020.0</td>\n",
              "      <td>50</td>\n",
              "      <td>175 cm</td>\n",
              "      <td>73 kg</td>\n",
              "      <td>Right</td>\n",
              "      <td>03/11/1994</td>\n",
              "      <td>23</td>\n",
              "      <td>RB</td>\n",
              "      <td>Low / High</td>\n",
              "      <td>2</td>\n",
              "      <td>2</td>\n",
              "      <td>33</td>\n",
              "      <td>49</td>\n",
              "      <td>49</td>\n",
              "      <td>60</td>\n",
              "      <td>54</td>\n",
              "      <td>46</td>\n",
              "      <td>50</td>\n",
              "      <td>36</td>\n",
              "      <td>47</td>\n",
              "      <td>37</td>\n",
              "      <td>30</td>\n",
              "      <td>39</td>\n",
              "      <td>21</td>\n",
              "      <td>27</td>\n",
              "      <td>65</td>\n",
              "      <td>57</td>\n",
              "      <td>61</td>\n",
              "      <td>51</td>\n",
              "      <td>73</td>\n",
              "      <td>59</td>\n",
              "      <td>57</td>\n",
              "      <td>42</td>\n",
              "      <td>25</td>\n",
              "      <td>20</td>\n",
              "      <td>22</td>\n",
              "      <td>29</td>\n",
              "      <td>31</td>\n",
              "      <td>37</td>\n",
              "      <td>21</td>\n",
              "      <td>10</td>\n",
              "      <td>9</td>\n",
              "      <td>6</td>\n",
              "      <td>7</td>\n",
              "      <td>14</td>\n",
              "    </tr>\n",
              "    <tr>\n",
              "      <th>3685</th>\n",
              "      <td>Jean-Armel Kana-Biyik</td>\n",
              "      <td>Cameroon</td>\n",
              "      <td>NaN</td>\n",
              "      <td>NaN</td>\n",
              "      <td>Kayserispor</td>\n",
              "      <td>RCB</td>\n",
              "      <td>76.0</td>\n",
              "      <td>08/04/2016</td>\n",
              "      <td>2019.0</td>\n",
              "      <td>72</td>\n",
              "      <td>184 cm</td>\n",
              "      <td>86 kg</td>\n",
              "      <td>Right</td>\n",
              "      <td>07/03/1989</td>\n",
              "      <td>27</td>\n",
              "      <td>CB</td>\n",
              "      <td>High / Medium</td>\n",
              "      <td>3</td>\n",
              "      <td>2</td>\n",
              "      <td>59</td>\n",
              "      <td>56</td>\n",
              "      <td>70</td>\n",
              "      <td>66</td>\n",
              "      <td>71</td>\n",
              "      <td>80</td>\n",
              "      <td>70</td>\n",
              "      <td>35</td>\n",
              "      <td>69</td>\n",
              "      <td>48</td>\n",
              "      <td>71</td>\n",
              "      <td>36</td>\n",
              "      <td>62</td>\n",
              "      <td>57</td>\n",
              "      <td>63</td>\n",
              "      <td>65</td>\n",
              "      <td>70</td>\n",
              "      <td>83</td>\n",
              "      <td>54</td>\n",
              "      <td>52</td>\n",
              "      <td>74</td>\n",
              "      <td>73</td>\n",
              "      <td>44</td>\n",
              "      <td>20</td>\n",
              "      <td>38</td>\n",
              "      <td>24</td>\n",
              "      <td>19</td>\n",
              "      <td>45</td>\n",
              "      <td>30</td>\n",
              "      <td>13</td>\n",
              "      <td>15</td>\n",
              "      <td>15</td>\n",
              "      <td>13</td>\n",
              "      <td>8</td>\n",
              "    </tr>\n",
              "  </tbody>\n",
              "</table>\n",
              "</div>"
            ],
            "text/plain": [
              "                        Name           Nationality  ... GK_Handling  GK_Reflexes\n",
              "1881               Joel Ward               England  ...           7           11\n",
              "8950     Christophe Diedhiou               Senegal  ...          11           13\n",
              "14069          Shannon Gomez     Trinidad & Tobago  ...          11           11\n",
              "16815     Marcin Mielczarski                Poland  ...           8           10\n",
              "11002                  Borja                 Spain  ...          10           11\n",
              "7223    Manassé Enza-Yamissi  Central African Rep.  ...           9           11\n",
              "9549           Chris Dagnall               England  ...           7           14\n",
              "13253            Ayaz Guliev                Russia  ...           8            8\n",
              "17387            Aaron Jones               England  ...           7           14\n",
              "3685   Jean-Armel Kana-Biyik              Cameroon  ...          13            8\n",
              "\n",
              "[10 rows x 53 columns]"
            ]
          },
          "metadata": {},
          "execution_count": 2
        }
      ]
    },
    {
      "cell_type": "code",
      "metadata": {
        "id": "bGo9YjDB_KCk",
        "colab": {
          "base_uri": "https://localhost:8080/",
          "height": 317
        },
        "outputId": "85e6aaf1-c5e0-43ee-d996-324cf17d48b1"
      },
      "source": [
        "raw_data.describe()"
      ],
      "execution_count": null,
      "outputs": [
        {
          "output_type": "execute_result",
          "data": {
            "text/html": [
              "<div>\n",
              "<style scoped>\n",
              "    .dataframe tbody tr th:only-of-type {\n",
              "        vertical-align: middle;\n",
              "    }\n",
              "\n",
              "    .dataframe tbody tr th {\n",
              "        vertical-align: top;\n",
              "    }\n",
              "\n",
              "    .dataframe thead th {\n",
              "        text-align: right;\n",
              "    }\n",
              "</style>\n",
              "<table border=\"1\" class=\"dataframe\">\n",
              "  <thead>\n",
              "    <tr style=\"text-align: right;\">\n",
              "      <th></th>\n",
              "      <th>National_Kit</th>\n",
              "      <th>Club_Kit</th>\n",
              "      <th>Contract_Expiry</th>\n",
              "      <th>Rating</th>\n",
              "      <th>Age</th>\n",
              "      <th>Weak_foot</th>\n",
              "      <th>Skill_Moves</th>\n",
              "      <th>Ball_Control</th>\n",
              "      <th>Dribbling</th>\n",
              "      <th>Marking</th>\n",
              "      <th>Sliding_Tackle</th>\n",
              "      <th>Standing_Tackle</th>\n",
              "      <th>Aggression</th>\n",
              "      <th>Reactions</th>\n",
              "      <th>Attacking_Position</th>\n",
              "      <th>Interceptions</th>\n",
              "      <th>Vision</th>\n",
              "      <th>Composure</th>\n",
              "      <th>Crossing</th>\n",
              "      <th>Short_Pass</th>\n",
              "      <th>Long_Pass</th>\n",
              "      <th>Acceleration</th>\n",
              "      <th>Speed</th>\n",
              "      <th>Stamina</th>\n",
              "      <th>Strength</th>\n",
              "      <th>Balance</th>\n",
              "      <th>Agility</th>\n",
              "      <th>Jumping</th>\n",
              "      <th>Heading</th>\n",
              "      <th>Shot_Power</th>\n",
              "      <th>Finishing</th>\n",
              "      <th>Long_Shots</th>\n",
              "      <th>Curve</th>\n",
              "      <th>Freekick_Accuracy</th>\n",
              "      <th>Penalties</th>\n",
              "      <th>Volleys</th>\n",
              "      <th>GK_Positioning</th>\n",
              "      <th>GK_Diving</th>\n",
              "      <th>GK_Kicking</th>\n",
              "      <th>GK_Handling</th>\n",
              "      <th>GK_Reflexes</th>\n",
              "    </tr>\n",
              "  </thead>\n",
              "  <tbody>\n",
              "    <tr>\n",
              "      <th>count</th>\n",
              "      <td>1075.000000</td>\n",
              "      <td>17587.000000</td>\n",
              "      <td>17587.000000</td>\n",
              "      <td>17588.000000</td>\n",
              "      <td>17588.000000</td>\n",
              "      <td>17588.000000</td>\n",
              "      <td>17588.000000</td>\n",
              "      <td>17588.000000</td>\n",
              "      <td>17588.000000</td>\n",
              "      <td>17588.000000</td>\n",
              "      <td>17588.000000</td>\n",
              "      <td>17588.000000</td>\n",
              "      <td>17588.000000</td>\n",
              "      <td>17588.000000</td>\n",
              "      <td>17588.000000</td>\n",
              "      <td>17588.000000</td>\n",
              "      <td>17588.000000</td>\n",
              "      <td>17588.000000</td>\n",
              "      <td>17588.000000</td>\n",
              "      <td>17588.000000</td>\n",
              "      <td>17588.000000</td>\n",
              "      <td>17588.000000</td>\n",
              "      <td>17588.000000</td>\n",
              "      <td>17588.000000</td>\n",
              "      <td>17588.000000</td>\n",
              "      <td>17588.000000</td>\n",
              "      <td>17588.000000</td>\n",
              "      <td>17588.000000</td>\n",
              "      <td>17588.000000</td>\n",
              "      <td>17588.000000</td>\n",
              "      <td>17588.000000</td>\n",
              "      <td>17588.000000</td>\n",
              "      <td>17588.000000</td>\n",
              "      <td>17588.000000</td>\n",
              "      <td>17588.000000</td>\n",
              "      <td>17588.000000</td>\n",
              "      <td>17588.000000</td>\n",
              "      <td>17588.000000</td>\n",
              "      <td>17588.000000</td>\n",
              "      <td>17588.000000</td>\n",
              "      <td>17588.000000</td>\n",
              "    </tr>\n",
              "    <tr>\n",
              "      <th>mean</th>\n",
              "      <td>12.219535</td>\n",
              "      <td>21.294536</td>\n",
              "      <td>2018.899414</td>\n",
              "      <td>66.166193</td>\n",
              "      <td>25.460314</td>\n",
              "      <td>2.934103</td>\n",
              "      <td>2.303161</td>\n",
              "      <td>57.972766</td>\n",
              "      <td>54.802877</td>\n",
              "      <td>44.230327</td>\n",
              "      <td>45.565499</td>\n",
              "      <td>47.441096</td>\n",
              "      <td>55.920173</td>\n",
              "      <td>61.770582</td>\n",
              "      <td>49.592051</td>\n",
              "      <td>46.794064</td>\n",
              "      <td>52.707869</td>\n",
              "      <td>55.853139</td>\n",
              "      <td>49.741073</td>\n",
              "      <td>58.119798</td>\n",
              "      <td>52.396065</td>\n",
              "      <td>65.287867</td>\n",
              "      <td>65.483853</td>\n",
              "      <td>63.476916</td>\n",
              "      <td>65.085854</td>\n",
              "      <td>64.008813</td>\n",
              "      <td>63.206732</td>\n",
              "      <td>64.918524</td>\n",
              "      <td>52.393109</td>\n",
              "      <td>55.581192</td>\n",
              "      <td>45.157607</td>\n",
              "      <td>47.403173</td>\n",
              "      <td>47.181146</td>\n",
              "      <td>43.383443</td>\n",
              "      <td>49.165738</td>\n",
              "      <td>43.275586</td>\n",
              "      <td>16.609620</td>\n",
              "      <td>16.823061</td>\n",
              "      <td>16.458324</td>\n",
              "      <td>16.559814</td>\n",
              "      <td>16.901183</td>\n",
              "    </tr>\n",
              "    <tr>\n",
              "      <th>std</th>\n",
              "      <td>6.933187</td>\n",
              "      <td>19.163741</td>\n",
              "      <td>1.698787</td>\n",
              "      <td>7.083012</td>\n",
              "      <td>4.680217</td>\n",
              "      <td>0.655927</td>\n",
              "      <td>0.746156</td>\n",
              "      <td>16.834779</td>\n",
              "      <td>18.913857</td>\n",
              "      <td>21.561703</td>\n",
              "      <td>21.515179</td>\n",
              "      <td>21.827815</td>\n",
              "      <td>17.445464</td>\n",
              "      <td>9.275210</td>\n",
              "      <td>19.407087</td>\n",
              "      <td>20.494715</td>\n",
              "      <td>14.589446</td>\n",
              "      <td>13.485994</td>\n",
              "      <td>18.457977</td>\n",
              "      <td>14.982582</td>\n",
              "      <td>15.616071</td>\n",
              "      <td>14.436296</td>\n",
              "      <td>14.100615</td>\n",
              "      <td>15.477377</td>\n",
              "      <td>12.532989</td>\n",
              "      <td>13.720288</td>\n",
              "      <td>14.618163</td>\n",
              "      <td>11.430807</td>\n",
              "      <td>17.473703</td>\n",
              "      <td>17.600155</td>\n",
              "      <td>19.374428</td>\n",
              "      <td>19.211887</td>\n",
              "      <td>18.464396</td>\n",
              "      <td>17.701903</td>\n",
              "      <td>15.871735</td>\n",
              "      <td>17.710839</td>\n",
              "      <td>17.139904</td>\n",
              "      <td>17.798052</td>\n",
              "      <td>16.600741</td>\n",
              "      <td>16.967256</td>\n",
              "      <td>18.034485</td>\n",
              "    </tr>\n",
              "    <tr>\n",
              "      <th>min</th>\n",
              "      <td>1.000000</td>\n",
              "      <td>1.000000</td>\n",
              "      <td>2017.000000</td>\n",
              "      <td>45.000000</td>\n",
              "      <td>17.000000</td>\n",
              "      <td>1.000000</td>\n",
              "      <td>1.000000</td>\n",
              "      <td>5.000000</td>\n",
              "      <td>4.000000</td>\n",
              "      <td>3.000000</td>\n",
              "      <td>5.000000</td>\n",
              "      <td>3.000000</td>\n",
              "      <td>2.000000</td>\n",
              "      <td>29.000000</td>\n",
              "      <td>2.000000</td>\n",
              "      <td>3.000000</td>\n",
              "      <td>10.000000</td>\n",
              "      <td>5.000000</td>\n",
              "      <td>6.000000</td>\n",
              "      <td>10.000000</td>\n",
              "      <td>7.000000</td>\n",
              "      <td>11.000000</td>\n",
              "      <td>11.000000</td>\n",
              "      <td>10.000000</td>\n",
              "      <td>20.000000</td>\n",
              "      <td>10.000000</td>\n",
              "      <td>11.000000</td>\n",
              "      <td>15.000000</td>\n",
              "      <td>4.000000</td>\n",
              "      <td>3.000000</td>\n",
              "      <td>2.000000</td>\n",
              "      <td>4.000000</td>\n",
              "      <td>6.000000</td>\n",
              "      <td>4.000000</td>\n",
              "      <td>7.000000</td>\n",
              "      <td>3.000000</td>\n",
              "      <td>1.000000</td>\n",
              "      <td>1.000000</td>\n",
              "      <td>1.000000</td>\n",
              "      <td>1.000000</td>\n",
              "      <td>1.000000</td>\n",
              "    </tr>\n",
              "    <tr>\n",
              "      <th>25%</th>\n",
              "      <td>6.000000</td>\n",
              "      <td>9.000000</td>\n",
              "      <td>2017.000000</td>\n",
              "      <td>62.000000</td>\n",
              "      <td>22.000000</td>\n",
              "      <td>3.000000</td>\n",
              "      <td>2.000000</td>\n",
              "      <td>53.000000</td>\n",
              "      <td>47.000000</td>\n",
              "      <td>22.000000</td>\n",
              "      <td>23.000000</td>\n",
              "      <td>26.000000</td>\n",
              "      <td>44.000000</td>\n",
              "      <td>55.000000</td>\n",
              "      <td>37.000000</td>\n",
              "      <td>26.000000</td>\n",
              "      <td>43.000000</td>\n",
              "      <td>47.000000</td>\n",
              "      <td>38.000000</td>\n",
              "      <td>52.000000</td>\n",
              "      <td>42.000000</td>\n",
              "      <td>57.000000</td>\n",
              "      <td>58.000000</td>\n",
              "      <td>57.000000</td>\n",
              "      <td>57.000000</td>\n",
              "      <td>56.000000</td>\n",
              "      <td>55.000000</td>\n",
              "      <td>58.000000</td>\n",
              "      <td>45.000000</td>\n",
              "      <td>45.000000</td>\n",
              "      <td>29.000000</td>\n",
              "      <td>32.000000</td>\n",
              "      <td>34.000000</td>\n",
              "      <td>31.000000</td>\n",
              "      <td>39.000000</td>\n",
              "      <td>30.000000</td>\n",
              "      <td>8.000000</td>\n",
              "      <td>8.000000</td>\n",
              "      <td>8.000000</td>\n",
              "      <td>8.000000</td>\n",
              "      <td>8.000000</td>\n",
              "    </tr>\n",
              "    <tr>\n",
              "      <th>50%</th>\n",
              "      <td>12.000000</td>\n",
              "      <td>18.000000</td>\n",
              "      <td>2019.000000</td>\n",
              "      <td>66.000000</td>\n",
              "      <td>25.000000</td>\n",
              "      <td>3.000000</td>\n",
              "      <td>2.000000</td>\n",
              "      <td>63.000000</td>\n",
              "      <td>60.000000</td>\n",
              "      <td>48.000000</td>\n",
              "      <td>51.000000</td>\n",
              "      <td>54.000000</td>\n",
              "      <td>59.000000</td>\n",
              "      <td>62.000000</td>\n",
              "      <td>54.000000</td>\n",
              "      <td>52.000000</td>\n",
              "      <td>54.000000</td>\n",
              "      <td>57.000000</td>\n",
              "      <td>54.000000</td>\n",
              "      <td>62.000000</td>\n",
              "      <td>56.000000</td>\n",
              "      <td>68.000000</td>\n",
              "      <td>68.000000</td>\n",
              "      <td>66.000000</td>\n",
              "      <td>66.000000</td>\n",
              "      <td>65.000000</td>\n",
              "      <td>65.000000</td>\n",
              "      <td>65.000000</td>\n",
              "      <td>56.000000</td>\n",
              "      <td>59.000000</td>\n",
              "      <td>48.000000</td>\n",
              "      <td>52.000000</td>\n",
              "      <td>48.000000</td>\n",
              "      <td>42.000000</td>\n",
              "      <td>50.000000</td>\n",
              "      <td>44.000000</td>\n",
              "      <td>11.000000</td>\n",
              "      <td>11.000000</td>\n",
              "      <td>11.000000</td>\n",
              "      <td>11.000000</td>\n",
              "      <td>11.000000</td>\n",
              "    </tr>\n",
              "    <tr>\n",
              "      <th>75%</th>\n",
              "      <td>18.000000</td>\n",
              "      <td>27.000000</td>\n",
              "      <td>2020.000000</td>\n",
              "      <td>71.000000</td>\n",
              "      <td>29.000000</td>\n",
              "      <td>3.000000</td>\n",
              "      <td>3.000000</td>\n",
              "      <td>69.000000</td>\n",
              "      <td>68.000000</td>\n",
              "      <td>64.000000</td>\n",
              "      <td>64.000000</td>\n",
              "      <td>66.000000</td>\n",
              "      <td>70.000000</td>\n",
              "      <td>68.000000</td>\n",
              "      <td>64.000000</td>\n",
              "      <td>64.000000</td>\n",
              "      <td>64.000000</td>\n",
              "      <td>66.000000</td>\n",
              "      <td>64.000000</td>\n",
              "      <td>68.000000</td>\n",
              "      <td>64.000000</td>\n",
              "      <td>75.000000</td>\n",
              "      <td>75.000000</td>\n",
              "      <td>74.000000</td>\n",
              "      <td>74.000000</td>\n",
              "      <td>74.000000</td>\n",
              "      <td>74.000000</td>\n",
              "      <td>73.000000</td>\n",
              "      <td>65.000000</td>\n",
              "      <td>69.000000</td>\n",
              "      <td>61.000000</td>\n",
              "      <td>63.000000</td>\n",
              "      <td>62.000000</td>\n",
              "      <td>57.000000</td>\n",
              "      <td>61.000000</td>\n",
              "      <td>57.000000</td>\n",
              "      <td>14.000000</td>\n",
              "      <td>14.000000</td>\n",
              "      <td>14.000000</td>\n",
              "      <td>14.000000</td>\n",
              "      <td>14.000000</td>\n",
              "    </tr>\n",
              "    <tr>\n",
              "      <th>max</th>\n",
              "      <td>36.000000</td>\n",
              "      <td>99.000000</td>\n",
              "      <td>2023.000000</td>\n",
              "      <td>94.000000</td>\n",
              "      <td>47.000000</td>\n",
              "      <td>5.000000</td>\n",
              "      <td>5.000000</td>\n",
              "      <td>95.000000</td>\n",
              "      <td>97.000000</td>\n",
              "      <td>92.000000</td>\n",
              "      <td>95.000000</td>\n",
              "      <td>92.000000</td>\n",
              "      <td>96.000000</td>\n",
              "      <td>96.000000</td>\n",
              "      <td>94.000000</td>\n",
              "      <td>93.000000</td>\n",
              "      <td>94.000000</td>\n",
              "      <td>94.000000</td>\n",
              "      <td>91.000000</td>\n",
              "      <td>92.000000</td>\n",
              "      <td>93.000000</td>\n",
              "      <td>96.000000</td>\n",
              "      <td>96.000000</td>\n",
              "      <td>95.000000</td>\n",
              "      <td>98.000000</td>\n",
              "      <td>97.000000</td>\n",
              "      <td>96.000000</td>\n",
              "      <td>95.000000</td>\n",
              "      <td>94.000000</td>\n",
              "      <td>93.000000</td>\n",
              "      <td>95.000000</td>\n",
              "      <td>91.000000</td>\n",
              "      <td>92.000000</td>\n",
              "      <td>93.000000</td>\n",
              "      <td>96.000000</td>\n",
              "      <td>93.000000</td>\n",
              "      <td>91.000000</td>\n",
              "      <td>89.000000</td>\n",
              "      <td>95.000000</td>\n",
              "      <td>91.000000</td>\n",
              "      <td>90.000000</td>\n",
              "    </tr>\n",
              "  </tbody>\n",
              "</table>\n",
              "</div>"
            ],
            "text/plain": [
              "       National_Kit      Club_Kit  ...   GK_Handling   GK_Reflexes\n",
              "count   1075.000000  17587.000000  ...  17588.000000  17588.000000\n",
              "mean      12.219535     21.294536  ...     16.559814     16.901183\n",
              "std        6.933187     19.163741  ...     16.967256     18.034485\n",
              "min        1.000000      1.000000  ...      1.000000      1.000000\n",
              "25%        6.000000      9.000000  ...      8.000000      8.000000\n",
              "50%       12.000000     18.000000  ...     11.000000     11.000000\n",
              "75%       18.000000     27.000000  ...     14.000000     14.000000\n",
              "max       36.000000     99.000000  ...     91.000000     90.000000\n",
              "\n",
              "[8 rows x 41 columns]"
            ]
          },
          "metadata": {},
          "execution_count": 3
        }
      ]
    },
    {
      "cell_type": "markdown",
      "metadata": {
        "id": "rrLYQk-CgeT3"
      },
      "source": [
        "## <font color=green> 1.2 Tratamento dos Dados </font>\n",
        "\n",
        "Em sequência filtramos apenas os dados com que desejamos trabalhar: o nome, a nacionalidade e nota do jogador. \n",
        "\n",
        "A distribuição das notas possui certo nível de simetria e forma de onde iremos supor normalidade dos dados para seguirmos com nossas análises."
      ]
    },
    {
      "cell_type": "code",
      "metadata": {
        "id": "3YhW_v5HVfY2",
        "colab": {
          "base_uri": "https://localhost:8080/",
          "height": 521
        },
        "outputId": "643f0140-3963-406b-ba07-5cf511cc7b2c"
      },
      "source": [
        "df = raw_data[['Name','Nationality','Rating']]\n",
        "\n",
        "fig, ax = plt.subplots(1, 1, figsize=(10, 5))\n",
        "df.Rating.hist(ax = ax,alpha=0.5)\n",
        "df.Rating.plot.kde(ax = ax, secondary_y=True, title='Nota', color = 'k',alpha=0.7)\n",
        "ax.set_xlim( df.Rating.min(), df.Rating.max() )\n",
        "plt.show()\n",
        "\n",
        "df.head(5)"
      ],
      "execution_count": null,
      "outputs": [
        {
          "output_type": "display_data",
          "data": {
            "image/png": "[encoded data removed]",
            "text/plain": [
              "<Figure size 720x360 with 2 Axes>"
            ]
          },
          "metadata": {
            "needs_background": "light"
          }
        },
        {
          "output_type": "execute_result",
          "data": {
            "text/html": [
              "<div>\n",
              "<style scoped>\n",
              "    .dataframe tbody tr th:only-of-type {\n",
              "        vertical-align: middle;\n",
              "    }\n",
              "\n",
              "    .dataframe tbody tr th {\n",
              "        vertical-align: top;\n",
              "    }\n",
              "\n",
              "    .dataframe thead th {\n",
              "        text-align: right;\n",
              "    }\n",
              "</style>\n",
              "<table border=\"1\" class=\"dataframe\">\n",
              "  <thead>\n",
              "    <tr style=\"text-align: right;\">\n",
              "      <th></th>\n",
              "      <th>Name</th>\n",
              "      <th>Nationality</th>\n",
              "      <th>Rating</th>\n",
              "    </tr>\n",
              "  </thead>\n",
              "  <tbody>\n",
              "    <tr>\n",
              "      <th>0</th>\n",
              "      <td>Cristiano Ronaldo</td>\n",
              "      <td>Portugal</td>\n",
              "      <td>94</td>\n",
              "    </tr>\n",
              "    <tr>\n",
              "      <th>1</th>\n",
              "      <td>Lionel Messi</td>\n",
              "      <td>Argentina</td>\n",
              "      <td>93</td>\n",
              "    </tr>\n",
              "    <tr>\n",
              "      <th>2</th>\n",
              "      <td>Neymar</td>\n",
              "      <td>Brazil</td>\n",
              "      <td>92</td>\n",
              "    </tr>\n",
              "    <tr>\n",
              "      <th>3</th>\n",
              "      <td>Luis Suárez</td>\n",
              "      <td>Uruguay</td>\n",
              "      <td>92</td>\n",
              "    </tr>\n",
              "    <tr>\n",
              "      <th>4</th>\n",
              "      <td>Manuel Neuer</td>\n",
              "      <td>Germany</td>\n",
              "      <td>92</td>\n",
              "    </tr>\n",
              "  </tbody>\n",
              "</table>\n",
              "</div>"
            ],
            "text/plain": [
              "                Name Nationality  Rating\n",
              "0  Cristiano Ronaldo    Portugal      94\n",
              "1       Lionel Messi   Argentina      93\n",
              "2             Neymar      Brazil      92\n",
              "3        Luis Suárez     Uruguay      92\n",
              "4       Manuel Neuer     Germany      92"
            ]
          },
          "metadata": {},
          "execution_count": 4
        }
      ]
    },
    {
      "cell_type": "markdown",
      "metadata": {
        "id": "EuEv1A0-hBQ0"
      },
      "source": [
        "## <font color=green> 1.3 Definição das Populações </font>\n",
        "\n",
        "Agora separamos os dados em brasileiros e não brasileiros. Onde já definimos as populações\n",
        "$$\n",
        "  X \\sim N(\\mu_1,\\sigma_1)\n",
        "  \\quad \\text{e} \\quad\n",
        "  Y \\sim N(\\mu_2,\\sigma_2),\n",
        "$$\n",
        "referentes às notas dos jogadores brasileiros e às notas dos jogadores estrangeiros."
      ]
    },
    {
      "cell_type": "code",
      "metadata": {
        "id": "Z5Hh1SEeWh8A",
        "colab": {
          "base_uri": "https://localhost:8080/",
          "height": 204
        },
        "outputId": "bfd7c94a-679b-4d57-a661-d1dfbc2bcb21"
      },
      "source": [
        "X = df[ df.Nationality == 'Brazil' ] \n",
        "# Y = df[ df.Nationality == 'Germany' ] \n",
        "Y = df[ df.Nationality != 'Brazil' ] \n",
        "\n",
        "X = X[ ['Name','Rating'] ] \n",
        "Y = Y[ ['Name','Rating'] ] \n",
        "\n",
        "X.sample(5)"
      ],
      "execution_count": null,
      "outputs": [
        {
          "output_type": "execute_result",
          "data": {
            "text/html": [
              "<div>\n",
              "<style scoped>\n",
              "    .dataframe tbody tr th:only-of-type {\n",
              "        vertical-align: middle;\n",
              "    }\n",
              "\n",
              "    .dataframe tbody tr th {\n",
              "        vertical-align: top;\n",
              "    }\n",
              "\n",
              "    .dataframe thead th {\n",
              "        text-align: right;\n",
              "    }\n",
              "</style>\n",
              "<table border=\"1\" class=\"dataframe\">\n",
              "  <thead>\n",
              "    <tr style=\"text-align: right;\">\n",
              "      <th></th>\n",
              "      <th>Name</th>\n",
              "      <th>Rating</th>\n",
              "    </tr>\n",
              "  </thead>\n",
              "  <tbody>\n",
              "    <tr>\n",
              "      <th>4694</th>\n",
              "      <td>Diegildo Ramos</td>\n",
              "      <td>70</td>\n",
              "    </tr>\n",
              "    <tr>\n",
              "      <th>3101</th>\n",
              "      <td>Léo Matos</td>\n",
              "      <td>73</td>\n",
              "    </tr>\n",
              "    <tr>\n",
              "      <th>2038</th>\n",
              "      <td>Alvildo Sousa</td>\n",
              "      <td>74</td>\n",
              "    </tr>\n",
              "    <tr>\n",
              "      <th>11889</th>\n",
              "      <td>Rodolfo Pittaça</td>\n",
              "      <td>63</td>\n",
              "    </tr>\n",
              "    <tr>\n",
              "      <th>7653</th>\n",
              "      <td>Marcelinho Moraisco</td>\n",
              "      <td>67</td>\n",
              "    </tr>\n",
              "  </tbody>\n",
              "</table>\n",
              "</div>"
            ],
            "text/plain": [
              "                      Name  Rating\n",
              "4694        Diegildo Ramos      70\n",
              "3101             Léo Matos      73\n",
              "2038         Alvildo Sousa      74\n",
              "11889      Rodolfo Pittaça      63\n",
              "7653   Marcelinho Moraisco      67"
            ]
          },
          "metadata": {},
          "execution_count": 5
        }
      ]
    },
    {
      "cell_type": "markdown",
      "metadata": {
        "id": "Bu1n7tw-zVF4"
      },
      "source": [
        "⭐ **Seleção das Populações**"
      ]
    },
    {
      "cell_type": "code",
      "metadata": {
        "id": "QQW7K45Q_wKt",
        "colab": {
          "base_uri": "https://localhost:8080/",
          "height": 297
        },
        "outputId": "eb696c36-4e92-4cff-e0cb-13fdf87426a6"
      },
      "source": [
        "x = X.describe()\n",
        "x['Y (🌎)'] = Y.describe()\n",
        "x.rename(columns={\"Rating\": \"X (🇧🇷)\"})"
      ],
      "execution_count": null,
      "outputs": [
        {
          "output_type": "execute_result",
          "data": {
            "text/html": [
              "<div>\n",
              "<style scoped>\n",
              "    .dataframe tbody tr th:only-of-type {\n",
              "        vertical-align: middle;\n",
              "    }\n",
              "\n",
              "    .dataframe tbody tr th {\n",
              "        vertical-align: top;\n",
              "    }\n",
              "\n",
              "    .dataframe thead th {\n",
              "        text-align: right;\n",
              "    }\n",
              "</style>\n",
              "<table border=\"1\" class=\"dataframe\">\n",
              "  <thead>\n",
              "    <tr style=\"text-align: right;\">\n",
              "      <th></th>\n",
              "      <th>X (🇧🇷)</th>\n",
              "      <th>Y (🌎)</th>\n",
              "    </tr>\n",
              "  </thead>\n",
              "  <tbody>\n",
              "    <tr>\n",
              "      <th>count</th>\n",
              "      <td>921.000000</td>\n",
              "      <td>16667.000000</td>\n",
              "    </tr>\n",
              "    <tr>\n",
              "      <th>mean</th>\n",
              "      <td>70.023887</td>\n",
              "      <td>65.953021</td>\n",
              "    </tr>\n",
              "    <tr>\n",
              "      <th>std</th>\n",
              "      <td>5.600803</td>\n",
              "      <td>7.095212</td>\n",
              "    </tr>\n",
              "    <tr>\n",
              "      <th>min</th>\n",
              "      <td>52.000000</td>\n",
              "      <td>45.000000</td>\n",
              "    </tr>\n",
              "    <tr>\n",
              "      <th>25%</th>\n",
              "      <td>66.000000</td>\n",
              "      <td>61.000000</td>\n",
              "    </tr>\n",
              "    <tr>\n",
              "      <th>50%</th>\n",
              "      <td>70.000000</td>\n",
              "      <td>66.000000</td>\n",
              "    </tr>\n",
              "    <tr>\n",
              "      <th>75%</th>\n",
              "      <td>74.000000</td>\n",
              "      <td>71.000000</td>\n",
              "    </tr>\n",
              "    <tr>\n",
              "      <th>max</th>\n",
              "      <td>92.000000</td>\n",
              "      <td>94.000000</td>\n",
              "    </tr>\n",
              "  </tbody>\n",
              "</table>\n",
              "</div>"
            ],
            "text/plain": [
              "           X (🇧🇷)         Y (🌎)\n",
              "count  921.000000  16667.000000\n",
              "mean    70.023887     65.953021\n",
              "std      5.600803      7.095212\n",
              "min     52.000000     45.000000\n",
              "25%     66.000000     61.000000\n",
              "50%     70.000000     66.000000\n",
              "75%     74.000000     71.000000\n",
              "max     92.000000     94.000000"
            ]
          },
          "metadata": {},
          "execution_count": 6
        }
      ]
    },
    {
      "cell_type": "markdown",
      "metadata": {
        "id": "jlzWp0hyhQpv"
      },
      "source": [
        "Perceba que temos médias e variâncias diferentes para essas amostras, porém devemos verificar com que nível de confiança podemos afirmar que a média brasileira é melhor que o restante do mundo. E assim faremos!"
      ]
    },
    {
      "cell_type": "markdown",
      "metadata": {
        "id": "OUiRJ3EDwrCe"
      },
      "source": [
        "# <font color=green>2 TESTES DE HIPÓTESES </font>\n",
        "\n",
        "---\n",
        "\n",
        "Tendo as amostras agrupadas por países, isto é, diferentes amostras de diferentes populações, nesta seção vamos testar algumas hipóteses sobre esses dados.\n",
        "\n",
        "***\n",
        "\n",
        "### Métodos empregados:\n",
        "Iremos utilizar três diferentes métodos para testagem das nossas hipóteses a serem formuladas:\n",
        "\n",
        "- Método do Intervalo de Confiança\n",
        "- Método Tradicional ou Região Crítica\n",
        "- Método do Valor P\n",
        "\n",
        "Para testagem da média da distribuição, que é o parâmetro de maior interesse no nosso problema, devemos primeiramente verificar a semelhança da variância entre as populações para decidir como prosseguir, desse modo iniciamos o estudo com esse objetivo."
      ]
    },
    {
      "cell_type": "markdown",
      "metadata": {
        "id": "xrrUdLQrhior"
      },
      "source": [
        "## <font color=green>2.1 Comparação das Variâncias  </font>\n",
        "\n",
        "### *Um pouco de teoria:*\n",
        "\n",
        "*Supondo duas amostras independentes, de tamanhos $n_{1}$ e $n_{2}$, retiradas de duas populações normais com a mesma variância $\\sigma^{2} = \\sigma_1^2 = \\sigma_2^2$. Indiquemos os estimadores de $\\sigma^{2}$ obtidos das amostras $X_1,\\dots ,X_{n_1}$ e $Y_1,\\dots, Y_{n_2}$ por $S_{1}^{2}$ e $S_{2}^{2}$, respectivamente. Temos que \n",
        "$$\n",
        "\\begin{array}{l}\n",
        "U=\\frac{\\left(n_{1}-1\\right) S_{1}^{2}}{\\sigma^{2}} \\sim \\chi^{2}\\left(n_{1}-1\\right)\n",
        "\\quad \\text{e} \\quad\n",
        "V=\\frac{\\left(n_{2}-1\\right) S_{2}^{2}}{\\sigma^{2}} \\sim \\chi^{2}\\left(n_{2}-1\\right)\n",
        "\\end{array}\n",
        "$$\n",
        "são quantidades pivotais para a estimação das variâncias de cada uma das populações. Operando sobre essas quantidades podemos estabelecer\n",
        "$$\n",
        "R = \\frac{S_{1}^{2}}{S_{2}^{2}}=\\frac{\\frac{U}{n_{1}-1}}{\\frac{V}{n_{2}-1}} \\sim F\\left(n_{1}-1, n_{2}-1\\right),\n",
        "$$\n",
        "onde $F(\\cdot,\\cdot)$ é a distribuição F de Fisher-Snedecor. A variável $R$ será útil para a condução dos nossos testes sobre as variâncias.*"
      ]
    },
    {
      "cell_type": "markdown",
      "metadata": {
        "id": "vGhxpti3mY4f"
      },
      "source": [
        "### <font color=green>2.1.1 Formulação das Hipóteses: </font>\n",
        "\n",
        "Como dito anteriormentes partimos da suposição de que a média da variância das notas dos jogadores é igual e queremos testar a veracidade dessa afirmação. Assim formulamos:\n",
        "\n",
        "  - $H_{0}: \\sigma_{1}^{2}=\\sigma_{2}^{2}=\\sigma^{2}$ \\\\\n",
        "  - $H_{1}: \\sigma_{1}^{2} \\neq \\sigma_{2}^{2}$\n",
        "\n",
        "Desejamos testar essa hipótese a um nível de confiança $\\gamma = 99\\%$. Fazemos essa escolha pois nossa amostra traz um viés grande da ponto de vista da coleta dos dados. Poucas divisões de campeonatos brasileiros parecem ser levados em consideração e muitas ligas mais baixas de alguns países, como por exemplo a Inglaterra, são levadas em consideração. Dessa forma damos uma grande chance do teste ser rejeitado.\n",
        "\n",
        "Dessa forma, definimos os parâmetros de entrada, isto é, os valores necessários para execução estudo sob qualquer um dos métodos."
      ]
    },
    {
      "cell_type": "code",
      "metadata": {
        "id": "G9rXzNGNRrJP",
        "colab": {
          "base_uri": "https://localhost:8080/",
          "height": 130
        },
        "outputId": "2d4e8134-9812-41cd-b572-d4de3c94ed28"
      },
      "source": [
        "alpha = 0.01\n",
        "disp(r'$\\alpha = {:.1e} \\implies  \\alpha/2 = {:.1e} $'.format( alpha,  alpha/2))\n",
        "\n",
        "disp(r'$\\textbf{Variáveis para as populações X e Y}:$')\n",
        "\n",
        "s2X = X.var()[0]\n",
        "s2Y = Y.var()[0]\n",
        "disp(r'$s^2_1\\approx {:.3e}, \\quad s^2_2\\approx {:.3e}$'.format( s2X, s2Y )) \n",
        "\n",
        "nX = len(X)\n",
        "nY = len(Y)\n",
        "disp(r'$n_1 = {}, \\qquad n_2 = {}$'.format( nX,  nY) )\n"
      ],
      "execution_count": null,
      "outputs": [
        {
          "output_type": "display_data",
          "data": {
            "text/markdown": "$\\alpha = 1.0e-02 \\implies  \\alpha/2 = 5.0e-03 $",
            "text/plain": [
              "<IPython.core.display.Markdown object>"
            ]
          },
          "metadata": {}
        },
        {
          "output_type": "display_data",
          "data": {
            "text/markdown": "$\\textbf{Variáveis para as populações X e Y}:$",
            "text/plain": [
              "<IPython.core.display.Markdown object>"
            ]
          },
          "metadata": {}
        },
        {
          "output_type": "display_data",
          "data": {
            "text/markdown": "$s^2_1\\approx 3.137e+01, \\quad s^2_2\\approx 5.034e+01$",
            "text/plain": [
              "<IPython.core.display.Markdown object>"
            ]
          },
          "metadata": {}
        },
        {
          "output_type": "display_data",
          "data": {
            "text/markdown": "$n_1 = 921, \\qquad n_2 = 16667$",
            "text/plain": [
              "<IPython.core.display.Markdown object>"
            ]
          },
          "metadata": {}
        }
      ]
    },
    {
      "cell_type": "markdown",
      "metadata": {
        "id": "-Gnao2MMrG71"
      },
      "source": [
        "### <font color=green>2.1.2 Método do Intervalo de Confiança </font>\n",
        "\n",
        "O primeiro teste empregado baseia-se na construção de um intervalo de confiança para $R$ que é uma quantidade pivotal referente à razão entre as quantidade pivotais para as variâncias. Pela definição dada anteriormente para $R$ em função dos estimadores das variâncias $\\sigma_{1}^{2}$ e $\\sigma_{2}^{2}$, devemos verificar se a razão entre as variâncias \n",
        "está contida num intervalo de confiança dado um nível confiança do experimento $\\gamma = 1 - \\alpha$, denotado por\n",
        "$$\n",
        "f_{1} \\frac{s_{2}^{2}}{s_{1}^{2}}<\\frac{\\sigma_{2}^{2}}{\\sigma_{1}^{2}}<f_{2} \\frac{s_{2}^{2}}{s_{1}^{2}}\n",
        "$$\n",
        "onde $f_1$ e $f_2$ são dadas pela função quantil ou função de ponto percentual (*PPF*) da distribuição $F(n_1-1,n_2-1)$ nos pontos $\\alpha/2$ e $1-\\alpha/2$ respectivamente, ilustrado pela figura a seguir.\n",
        "\n",
        "![fsnedecor.jpeg](data:image/jpeg;base64,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)\n",
        "\n",
        "Ora, para que nossa hipótese seja verdadeira devemos ter $$\\frac{\\sigma_{2}^{2}}{\\sigma_{1}^{2}} = 1,$$ portanto para testar sua validade basta verificar se \n",
        "$$\n",
        "  1 \\in \\left( f_{1} \\frac{s_{2}^{2}}{s_{1}^{2}}, f_{2} \\frac{s_{2}^{2}}{s_{1}^{2}}\\right).\n",
        "$$\n",
        "E assim faremos."
      ]
    },
    {
      "cell_type": "code",
      "metadata": {
        "id": "XozzZiKqONsk",
        "colab": {
          "base_uri": "https://localhost:8080/",
          "height": 77
        },
        "outputId": "b2d27236-890a-497b-c7fc-424978681c5f"
      },
      "source": [
        "from scipy.stats import f as f_snedecor\n",
        "\n",
        "F = f_snedecor(nX-1,nY-1)\n",
        "\n",
        "r = s2X/s2Y\n",
        "disp(r'$(s_1/s_2)^2 \\approx {:.3e}.$'.format(r) )\n",
        "\n",
        "f1 = F.ppf(  alpha/2)\n",
        "f2 = F.ppf(1-alpha/2)\n",
        "disp(r'$f_1\\approx {:.3e}, \\quad f_2\\approx {:.3e}$'.format( f1, f2)) "
      ],
      "execution_count": null,
      "outputs": [
        {
          "output_type": "display_data",
          "data": {
            "text/markdown": "$(s_1/s_2)^2 \\approx 6.231e-01.$",
            "text/plain": [
              "<IPython.core.display.Markdown object>"
            ]
          },
          "metadata": {}
        },
        {
          "output_type": "display_data",
          "data": {
            "text/markdown": "$f_1\\approx 8.813e-01, \\quad f_2\\approx 1.128e+00$",
            "text/plain": [
              "<IPython.core.display.Markdown object>"
            ]
          },
          "metadata": {}
        }
      ]
    },
    {
      "cell_type": "code",
      "metadata": {
        "id": "wstx_oAiOpRs",
        "colab": {
          "base_uri": "https://localhost:8080/",
          "height": 50
        },
        "outputId": "77658c3c-109d-469a-9c47-47b1939d5693"
      },
      "source": [
        "\n",
        "linf =  round(f1/r,4)\n",
        "lsup =  round(f2/r,4)\n",
        "disp(r'$I_c \\approx [{},{}]$'.format(linf,lsup) )"
      ],
      "execution_count": null,
      "outputs": [
        {
          "output_type": "display_data",
          "data": {
            "text/markdown": "$I_c \\approx [1.4143,1.8103]$",
            "text/plain": [
              "<IPython.core.display.Markdown object>"
            ]
          },
          "metadata": {}
        }
      ]
    },
    {
      "cell_type": "markdown",
      "metadata": {
        "id": "9cBzVNnkJlJU"
      },
      "source": [
        "<font color=blue> Portanto, pelo **Método do Intervalo de Confiança** rejeitamos a hipótese nula com uma confiança de 99%, isto é, temos que a variância entre as duas populações não é a mesma\n",
        "$$\n",
        "  \\sigma^2_1 \\neq \\sigma^2_2.\n",
        "$$\n",
        "A variabilidade das notas em cada uma das populações não se comporta da mesma maneira. O que pode decorrer do método de coleta dos dados abordado anteriormente.\n",
        "</font>"
      ]
    },
    {
      "cell_type": "markdown",
      "metadata": {
        "id": "aSFioHA3zy-2"
      },
      "source": [
        "### <font color=green>2.1.3 Método Tradicional </font>\n",
        "\n",
        "Neste método verificamos se a estatística \n",
        "$$\n",
        "  r_0 = \\frac{s^2_1}{s^2_2}\n",
        "$$\n",
        "está contida na região crítica ou região de rejeição\n",
        "$$\n",
        "  RR = (0,f_1] \\cup [f_2,\\infty),\n",
        "$$\n",
        "que nada mais é do que o complementar do nosso intervalo de confiança no espaço da hipótese dado pela distribuição F de Snedecor. Logo, pelos valores já computados pelo método anterior temos"
      ]
    },
    {
      "cell_type": "code",
      "metadata": {
        "colab": {
          "base_uri": "https://localhost:8080/",
          "height": 77
        },
        "id": "_RAR0Ia3mhcY",
        "outputId": "e0ce3716-299a-4367-d08d-16d46bd72086"
      },
      "source": [
        "disp(r'$r_0 \\; \\approx \\; {:.3e}.$'.format(r) )\n",
        "disp(r'$RR \\, \\approx \\, (0,\\;{:.3e}]\\;\\cup\\;[{:.3e},\\;\\infty)$'.format(f1,f2) )"
      ],
      "execution_count": null,
      "outputs": [
        {
          "output_type": "display_data",
          "data": {
            "text/markdown": "$r_0 \\; \\approx \\; 6.231e-01.$",
            "text/plain": [
              "<IPython.core.display.Markdown object>"
            ]
          },
          "metadata": {}
        },
        {
          "output_type": "display_data",
          "data": {
            "text/markdown": "$RR \\, \\approx \\, (0,\\;8.813e-01]\\;\\cup\\;[1.128e+00,\\;\\infty)$",
            "text/plain": [
              "<IPython.core.display.Markdown object>"
            ]
          },
          "metadata": {}
        }
      ]
    },
    {
      "cell_type": "markdown",
      "metadata": {
        "id": "jSfum4frITYZ"
      },
      "source": [
        "<font color=blue> Portanto\n",
        "$$\n",
        "  r_0 \\notin RR,\n",
        "$$\n",
        "em outras palavras, também pelo **Método Tradicional** rejeitamos a hipótese nula com 99% de confiança para essas amostras, em outras palavras, a variância entre as duas populações não é a mesma\n",
        "$$\n",
        "  \\sigma^2_1 \\neq \\sigma^2_2.\n",
        "$$\n",
        "</font>"
      ]
    },
    {
      "cell_type": "markdown",
      "metadata": {
        "id": "VLNxMlTZQbUY"
      },
      "source": [
        "### <font color=green>2.1.4 Método do Valor P </font>\n",
        "\n",
        "Neste método calculamos o menor nível de significância com que se rejeitaria a hipótese nula, chamado de *p-valor* e nesse caso, sendo um teste bilateral, é denotado por\n",
        "$$\n",
        "    \\text{P} = \\min\\left\\{P(F > r_0) , P(F < r_0)\\right\\}\n",
        "$$\n",
        "onde $ F \\sim F(n_1-1,n_2-1)$ é a nossa quantidade pivotal apresentada anteriormente. E $r_0$ a estatística obtida pelo método tradicional.\n",
        "\n",
        "Portanto, para o caso bilateral, se tivermos \n",
        "$$\n",
        "  \\text{P} < \\frac{\\alpha}{2}\n",
        "$$\n",
        "rejeitamos a hipótese nula."
      ]
    },
    {
      "cell_type": "code",
      "metadata": {
        "colab": {
          "base_uri": "https://localhost:8080/",
          "height": 50
        },
        "id": "kI06p9NSmhfK",
        "outputId": "b6d0ed04-6904-4cad-9a6e-729ec285aac7"
      },
      "source": [
        "Ps = min(F.cdf(r),1-F.cdf(r))\n",
        "disp(r'$\\text P \\approx {:.2e}, \\quad \\alpha/2 \\approx {:.2e}.$'.format(Ps,alpha/2))\n"
      ],
      "execution_count": null,
      "outputs": [
        {
          "output_type": "display_data",
          "data": {
            "text/markdown": "$\\text P \\approx 1.73e-20, \\quad \\alpha/2 \\approx 5.00e-03.$",
            "text/plain": [
              "<IPython.core.display.Markdown object>"
            ]
          },
          "metadata": {}
        }
      ]
    },
    {
      "cell_type": "markdown",
      "metadata": {
        "id": "Tp6AbTsVicRR"
      },
      "source": [
        "<font color=blue> Portanto\n",
        "$$\n",
        "  \\text P < \\frac{\\alpha}{2},\n",
        "$$\n",
        "e pelo **Método do Valor P**, não só rejeitamos a hipótese nula, como percebemos que a hipótese só seria aceita (lê-se não rejeitada) com um nível ínfimo de significância. Desse modo, concluímos que \n",
        "$$\n",
        "  \\sigma^2_1 \\neq \\sigma^2_2.\n",
        "$$\n",
        "e damos sequência para a avaliação das médias considerando variâncias diferentes."
      ]
    },
    {
      "cell_type": "markdown",
      "metadata": {
        "id": "jzyimtKHjKRg"
      },
      "source": [
        "Antes de prosseguirmos apresentamos a função de densidade de probabilidade (*PDF*) que segue $F(n_1-1,n_2-1)$ a fim de ilustrar os métodos empregados aqui."
      ]
    },
    {
      "cell_type": "code",
      "metadata": {
        "colab": {
          "base_uri": "https://localhost:8080/",
          "height": 428
        },
        "id": "RqY4our4js3q",
        "outputId": "86c87049-5d51-477b-9dae-d723e4803fe4"
      },
      "source": [
        "# samples = F.rvs( size=100000, random_state=123 )\n",
        "\n",
        "xs = np.linspace(0.5, 1.5, 1000)\n",
        "\n",
        "plt.figure(figsize=(15,7))\n",
        "# plt.vlines(x = r, ymin = 0, ymax = np.max(F.pdf(xs)), linestyles='dashed', colors='red', label=r'$r_0$')\n",
        "\n",
        "plt.plot(xs, F.pdf(xs),'y', label='PDF')\n",
        "plt.fill_between(np.linspace(f1,f2, 100),0,F.pdf(np.linspace(f1,f2,100)),alpha=0.3,color='k',label=r'$I_c$')\n",
        "plt.plot([r],[0],'ro',label=r'$r_0$')\n",
        "plt.legend(loc='best',fontsize=15)\n",
        "plt.show()"
      ],
      "execution_count": null,
      "outputs": [
        {
          "output_type": "display_data",
          "data": {
            "image/png": "[encoded data removed]",
            "text/plain": [
              "<Figure size 1080x504 with 1 Axes>"
            ]
          },
          "metadata": {
            "needs_background": "light"
          }
        }
      ]
    },
    {
      "cell_type": "markdown",
      "metadata": {
        "id": "zW83oHcnMH54"
      },
      "source": [
        "O ponto $r_0$ e o limite de $I_c$ nos dá uma ideia da distância da menor significância onde a hipótese seria descartada. Para o nível de significância $\\alpha$ adotado aqui, temos a região de aceitação ilustrada pela área sombreada e a região crítica dada pelo complementar disso no domínio do suporte da distribuição $(0,\\infty)$."
      ]
    },
    {
      "cell_type": "markdown",
      "metadata": {
        "id": "-NNMcthHKWDn"
      },
      "source": [
        "## <font color=green>2.2 Comparação das Médias de duas Populações: </font>\n",
        "#### <font color=green> Amostras Independentes, Variâncias Desconhecidas e Diferentes </font>\n",
        "\n",
        "Concluído o estudo sobre as variâncias iremos agora de fato verificar as diferenças entre as médias das populações levando em consideração que não conhecemos as variâncias e essas não são iguais.\n",
        "\n",
        "Relembrando, para amostras $X_1,\\dots ,X_{n_1} \\sim N(\\mu_1,\\sigma^2_1)$ e $Y_1,\\dots, Y_{n_2} \\sim N(\\mu_2,\\sigma^2_2)$, temos os estimadores da média e da variância dados por\n",
        "$$\n",
        "\\begin{aligned}\n",
        "\\bar{X} &=\\frac{1}{n_1} \\sum_{i=1}^{n_1} X_{i}, \\quad S_{1}^{2}=\\frac{1}{n_1-1} \\sum_{i=1}^{n_1}\\left(X_{i}-\\bar{X}\\right)^{2}, \\\\\n",
        "\\bar{Y} &=\\frac{1}{n_2} \\sum_{i=1}^{n_2} Y_{i}, \\quad S_{2}^{2}=\\frac{1}{n_2-1} \\sum_{i=1}^{n_2}\\left(Y_{i}-\\bar{Y}\\right)^{2}.\n",
        "\\end{aligned}\n",
        "$$\n",
        "\n",
        "Sob a hipótese de igualdade das médias, isto é, $\\mu_{1}=\\mu_{2}$:\n",
        "$$\n",
        "E(\\bar{X}-\\bar{Y})=0,\n",
        "\\qquad\n",
        "\\operatorname{Var}(\\bar{X}-\\bar{Y})=\\operatorname{Var}(\\bar{X})+\\operatorname{Var}(\\bar{Y})=\\frac{\\sigma_{1}^{2}}{n_1}+\\frac{\\sigma_{2}^{2}}{n_2}.\n",
        "$$\n",
        "Como $\\bar{X}-\\bar{Y}$ tem distribuição normal, se as variâncias fossem conhecidas, teríamos a estatística\n",
        "$$\n",
        "Z=\\frac{\\bar{X}-\\bar{Y}}{\\sqrt{\\sigma_{1}^{2} / n_1+\\sigma_{2}^{2}/ n_2}} \\sim N(0,1).\n",
        "$$\n",
        "Porém, nesse caso - e como na maioria dos problemas reais - a variância é desconhecida, logo\n",
        "$$\n",
        "T=\\frac{\\bar{X}-\\bar{Y}}{\\sqrt{S_{1}^{2} / n_1+S_{2}^{2}/ n_2}} \\sim t\\left(\\nu\\right),\n",
        "$$\n",
        "onde, sob hipótese de igualdade das médias, temos o número de graus de liberdade\n",
        "$$\n",
        "\\nu=\\left\\lfloor\\frac{(A+B)^{2}}{A^{2} /(n_1-1)+B^{2} /(n_2-1)}\\right\\rceil\n",
        "$$\n",
        "tal que \n",
        "$$\n",
        "A=s_{1}^{2} / n_1, \\quad B=s_{2}^{2} / n_2.\n",
        "$$\n",
        "\n",
        "Essa variável $T$ será útil para condução de nossos testes a seguir, lembrando que para um número de graus de liberdade maior que 30, a distribuição t de Student se aproxima de uma distribuição normal padrão."
      ]
    },
    {
      "cell_type": "markdown",
      "metadata": {
        "id": "7KoCQAmSRM4_"
      },
      "source": [
        "### <font color=green>2.2.1 Formulação das Hipóteses: </font>\n",
        "\n",
        "Partindo da suposição de igualdade das médias formulamos:\n",
        "\n",
        "  - $H_{0}: \\mu_{1} =    \\mu_{2} = \\mu$ \\\\\n",
        "  - $H_{1}: \\mu_{1} \\neq \\mu_{2}$\n",
        "\n",
        "Desejamos testar essa hipótese a um mesmo nível de confiança como feito para as variâncias pelos mesmos motivos apresentados, i.e $\\gamma = 99\\%$.\n",
        "\n",
        "Assim, os parâmetros de entrada são os mesmos do problema anterior a se acrescentar as médias dadas por"
      ]
    },
    {
      "cell_type": "code",
      "metadata": {
        "colab": {
          "base_uri": "https://localhost:8080/",
          "height": 49
        },
        "id": "E0NSU0fpR5U-",
        "outputId": "c0344e55-4d65-44b4-f4aa-f8900dbedb50"
      },
      "source": [
        "mX = X.mean()[0]\n",
        "mY = Y.mean()[0]\n",
        "disp(r'$\\bar x\\approx {:.3f}, \\quad \\bar y\\approx {:.3f}$'.format( mX, mY )) "
      ],
      "execution_count": null,
      "outputs": [
        {
          "output_type": "display_data",
          "data": {
            "text/markdown": "$\\bar x\\approx 70.024, \\quad \\bar y\\approx 65.953$",
            "text/plain": [
              "<IPython.core.display.Markdown object>"
            ]
          },
          "metadata": {}
        }
      ]
    },
    {
      "cell_type": "markdown",
      "metadata": {
        "id": "xwx6YWvzV3wr"
      },
      "source": [
        "Vamos verificar ainda o número de graus de liberdade para confirmar nossa escolha de distribuição para modelagem"
      ]
    },
    {
      "cell_type": "code",
      "metadata": {
        "colab": {
          "base_uri": "https://localhost:8080/",
          "height": 50
        },
        "id": "Z120Fi-1V_0K",
        "outputId": "49679e94-2c27-4430-b9a4-790a5eca16c3"
      },
      "source": [
        "A = s2X/nX\n",
        "B = s2Y/nY\n",
        "\n",
        "nu = round( (A + B)**2/( A**2/(nX-1) + B**2/(nY-1) ) )\n",
        "disp(r'$\\nu = {}$'.format( nu )) "
      ],
      "execution_count": null,
      "outputs": [
        {
          "output_type": "display_data",
          "data": {
            "text/markdown": "$\\nu = 1090$",
            "text/plain": [
              "<IPython.core.display.Markdown object>"
            ]
          },
          "metadata": {}
        }
      ]
    },
    {
      "cell_type": "markdown",
      "metadata": {
        "id": "MiiFzrh1Ws9C"
      },
      "source": [
        "Portanto podemos modelar como \n",
        "$$\n",
        "T=\\frac{\\bar{X}-\\bar{Y}}{\\sqrt{S_{1}^{2} / n_1+S_{2}^{2}/ n_2}} \\sim N(0,1),\n",
        "$$\n",
        "e ainda definindo $\\Delta = \\mu_1 -\\mu_2$, podemos reescrever as hipóteses como\n",
        "  - $H_{0}: \\Delta = 0$ \\\\\n",
        "  - $H_{1}: \\Delta \\neq 0$"
      ]
    },
    {
      "cell_type": "markdown",
      "metadata": {
        "id": "_XXbVG4mXFj6"
      },
      "source": [
        "### <font color=green>2.2.2 Método do Intervalo de Confiança </font>\n",
        "\n",
        "Repetimos o mesmo primeiro teste executa na subseção 2.1, em que construímos um intervalo baseado na nossa modelagem, agora de maneira mais enxuta pela simetria da normal, definimos\n",
        "$$\n",
        "  I_c = (\\bar{x} - \\bar{y}) \\pm z_c \\sqrt{s^2_1/n_1+s^2_2/n_2}.\n",
        "$$\n",
        "onde $z_c = \\Phi^{-1}(\\alpha/2)$ é a *PPF* da normal padrão"
      ]
    },
    {
      "cell_type": "code",
      "metadata": {
        "id": "tMDL_ueLYVRx",
        "colab": {
          "base_uri": "https://localhost:8080/",
          "height": 103
        },
        "outputId": "81b7b852-8b2c-466c-8692-3cd16be09e78"
      },
      "source": [
        "from scipy.stats import norm\n",
        "\n",
        "delta = mX - mY\n",
        "disp(r'$\\Delta \\approx {:.3f}$'.format(delta) )\n",
        "\n",
        "zc = norm.ppf(1-alpha/2)\n",
        "eps = zc * np.sqrt( s2X/nX + s2Y/nY )\n",
        "disp(r'$\\epsilon \\approx {:.3f}$'.format(eps) )\n",
        "\n",
        "disp(r'$I_c \\approx {:.3f} \\pm {:.3f} $'.format(delta,eps) )"
      ],
      "execution_count": null,
      "outputs": [
        {
          "output_type": "display_data",
          "data": {
            "text/markdown": "$\\Delta \\approx 4.071$",
            "text/plain": [
              "<IPython.core.display.Markdown object>"
            ]
          },
          "metadata": {}
        },
        {
          "output_type": "display_data",
          "data": {
            "text/markdown": "$\\epsilon \\approx 0.496$",
            "text/plain": [
              "<IPython.core.display.Markdown object>"
            ]
          },
          "metadata": {}
        },
        {
          "output_type": "display_data",
          "data": {
            "text/markdown": "$I_c \\approx 4.071 \\pm 0.496 $",
            "text/plain": [
              "<IPython.core.display.Markdown object>"
            ]
          },
          "metadata": {}
        }
      ]
    },
    {
      "cell_type": "markdown",
      "metadata": {
        "id": "vEr_TtlWkhCY"
      },
      "source": [
        "<font color=blue> Portanto, pelo **Método do Intervalo de Confiança** rejeitamos a hipótese nula com 99% de confiança, isto é, a média entre as duas populações não é a mesma. \n",
        "$$\n",
        "  \\mu_1 \\neq \\mu_2.\n",
        "$$\n",
        "</font>"
      ]
    },
    {
      "cell_type": "markdown",
      "metadata": {
        "id": "mGYY_QwHnjOu"
      },
      "source": [
        "### <font color=green>2.2.3 Método Tradicional </font>\n",
        "\n",
        "Neste método verificamos se a estatística \n",
        "$$\n",
        "  z_0 = \\frac{\\Delta}{\\sqrt{s^2_1/n_1+s^2_2/n_2}}\n",
        "$$\n",
        "está contida na região de rejeição\n",
        "$$RR = \\{ x \\in \\mathbb{R} : |x| > z_c \\},$$\n",
        "complementar do intervalo de confiança no espaço da hipótese. Logo, temos"
      ]
    },
    {
      "cell_type": "code",
      "metadata": {
        "colab": {
          "base_uri": "https://localhost:8080/",
          "height": 50
        },
        "id": "ji9pt0u1olm2",
        "outputId": "b8c70371-8073-4e52-f5f5-aef16e70a1f6"
      },
      "source": [
        "z0 = delta / np.sqrt( s2X/nX + s2Y/nY )\n",
        "disp(r'$z_0 \\; \\approx \\; {:.3f}.$'.format(z0) )"
      ],
      "execution_count": null,
      "outputs": [
        {
          "output_type": "display_data",
          "data": {
            "text/markdown": "$z_0 \\; \\approx \\; 21.141.$",
            "text/plain": [
              "<IPython.core.display.Markdown object>"
            ]
          },
          "metadata": {}
        }
      ]
    },
    {
      "cell_type": "markdown",
      "metadata": {
        "id": "FMVMQbpwsA8N"
      },
      "source": [
        "<font color=blue> Portanto, pelo **Método Tradicional** com 99% de confiança também rejeitamos a hipótese nula.\n",
        "$$\n",
        "  \\mu_1 \\neq \\mu_2.\n",
        "$$\n",
        "</font>\n"
      ]
    },
    {
      "cell_type": "markdown",
      "metadata": {
        "id": "A9f1WCe3sIY2"
      },
      "source": [
        "### <font color=green>2.2.4 Método do Valor P </font>\n",
        "\n",
        "Calculamos por fim o menor nível de significância com que se rejeitaria a hipótese nula ou o p-valor\n",
        "$$\n",
        "    \\text{P} = P(T > z_0)\n",
        "$$\n",
        "onde $ T \\sim N(0,1)$ e $z_0$ foi obtido pelo método tradicional."
      ]
    },
    {
      "cell_type": "code",
      "metadata": {
        "colab": {
          "base_uri": "https://localhost:8080/",
          "height": 50
        },
        "id": "jirNwlSMtkXb",
        "outputId": "8abe5fbf-ff1b-4bea-b131-c9497382afe6"
      },
      "source": [
        "Pm = 1 - norm.cdf(z0)\n",
        "disp(r'$\\text P \\approx {:.2e}, \\quad \\alpha/2 \\approx {:.2e}.$'.format(Pm,alpha/2))"
      ],
      "execution_count": null,
      "outputs": [
        {
          "output_type": "display_data",
          "data": {
            "text/markdown": "$\\text P \\approx 0.00e+00, \\quad \\alpha/2 \\approx 5.00e-03.$",
            "text/plain": [
              "<IPython.core.display.Markdown object>"
            ]
          },
          "metadata": {}
        }
      ]
    },
    {
      "cell_type": "markdown",
      "metadata": {
        "id": "A3WTa9XswHGE"
      },
      "source": [
        "<font color=blue> Portanto pelo **Método do Valor P**\n",
        "$$\n",
        "  \\text P < \\frac{\\alpha}{2},\n",
        "$$\n",
        "e a hipótese nula é rejeitada\n",
        "$$\n",
        "  \\mu_1 \\neq \\mu_2.\n",
        "$$\n",
        "Ainda, perceba que o valor $\\text{P}$ é aproximadamente zero, isso significa que poderíamos conduzir um teste tal que $$\\gamma = 1 - \\alpha \\rightarrow 1, $$ em outras palavras, com uma confiança muito próxima de 100%, que ainda rejeitaríamos a hipótese."
      ]
    },
    {
      "cell_type": "markdown",
      "metadata": {
        "id": "GV2d4bcW2X-S"
      },
      "source": [
        "Como de fato, pela estimativa de densidade por Kernel (*KDE*) podemos observar certa superioridade do Brasil em relação ao restante do mundo quanto às notas dos jogadores."
      ]
    },
    {
      "cell_type": "code",
      "metadata": {
        "colab": {
          "base_uri": "https://localhost:8080/",
          "height": 321
        },
        "id": "Y5bUBu1h098G",
        "outputId": "766094dc-6421-4128-9bd3-1e491accaaf4"
      },
      "source": [
        "fig, ax = plt.subplots(1, 1, figsize=(10, 5))\n",
        "X.Rating.plot.kde(ax = ax,label='Brasil')\n",
        "Y.Rating.plot.kde(ax = ax,label='Mundo')\n",
        "ax.set_xlim(df.Rating.min(),df.Rating.max())\n",
        "plt.legend(loc='best',fontsize=14)\n",
        "plt.show()"
      ],
      "execution_count": null,
      "outputs": [
        {
          "output_type": "display_data",
          "data": {
            "image/png": "[encoded data removed]",
            "text/plain": [
              "<Figure size 720x360 with 1 Axes>"
            ]
          },
          "metadata": {
            "needs_background": "light"
          }
        }
      ]
    },
    {
      "cell_type": "markdown",
      "metadata": {
        "id": "jW1DP0lPrHBq"
      },
      "source": [
        "# <font color=green>3 CONCLUSÕES </font>\n",
        "\n",
        "---\n",
        "Nesta seção final apresentamos breves conclusões e consideração sobre os resultados obtidos.\n",
        "***\n",
        "\n",
        "Supondo que os dados representem bem as duas populações estudadas, de jogadores brasileiros e jogadores do resto do mundo, poderíamos afirmar sob a ótica da modelagem feita que em os **jogadores brasileiros são melhores que jogadores do resto do mundo** com uma confiança de 99%.\n",
        "\n",
        "Poderíamos selecionar de uma maneira melhor os dados, amostrando as duas populações e/ou considerando apenas países com expressividade no futebol, para verificar esse resultado. De forma simples isso pode ser feito nesse notebook apenas alterando o código em (⭐ **Seleção das Populações**) para um ou mais países de sua escolha, o código executa os mesmos testes sem perdas.\n",
        "\n",
        "Os testes executados supõem normalidade das populações, para testes considerando $X$ e $Y$ quaisquer, poderíamos empregar o teste de Wilcoxon. Tanto esse teste quanto os testes executados aqui possuem uma rotina consolidade implementada no pacote `stats` da biblioteca `SciPy`, utilizada aqui apenas para modelar as distribuições.\n",
        "\n"
      ]
    },
    {
      "cell_type": "markdown",
      "metadata": {
        "id": "_x8-ZYOv2vRz"
      },
      "source": [
        "# <font color=green>REFERÊNCIAS </font>\n",
        "\n",
        "- Casella, G., & Berger, R. L. (2002). Statistical inference. Cengage Learning.\n",
        "- Morettin, P. A., & Bussab, W. O. (2017). Estatística básica. Saraiva Educação SA.\n"
      ]
    },
    {
      "cell_type": "markdown",
      "metadata": {
        "id": "e5kPlvkRwDU_"
      },
      "source": [
        "# <font color=green> Apêndice A: UMA APROXIMAÇÃO BAYESIANA </font>\n",
        "\n",
        "Nesta seção faremos uma breve análise das populações por meio de uma abordagem bayesiana onde partimos de uma distribuição uniforme do parâmetro $\\mu$, isto é, da média da população amparando nossa escolha pelo Princípio da Máxima Entropia onde assumimos desconhecimento da média real da população e consideramos apenas o intervalo do suporte."
      ]
    },
    {
      "cell_type": "code",
      "metadata": {
        "colab": {
          "base_uri": "https://localhost:8080/",
          "height": 247
        },
        "id": "lfQ7Jwe6o0YC",
        "outputId": "2ac2039a-aac0-41a7-c946-bd5fd6a69b7e"
      },
      "source": [
        "import pymc3 as pm\n",
        "\n",
        "lb = df['Rating'].min()\n",
        "ub = df['Rating'].max()\n",
        "\n",
        "with pm.Model() as model:\n",
        "  mu_X = pm.Uniform(\"mu_X\", lb, ub)\n",
        "  mu_Y = pm.Uniform(\"mu_Y\", lb, ub)\n",
        "\n",
        "  delta = pm.Deterministic(\"delta\", mu_X - mu_Y)\n",
        "\n",
        "  obs_X = pm.Normal(\"obs_X\", mu_X, observed=X['Rating'])\n",
        "  obs_Y = pm.Normal(\"obs_Y\", mu_Y, observed=Y['Rating'])\n",
        "\n",
        "  step = pm.Metropolis()\n",
        "  trace = pm.sample(20000, step=step)\n",
        "  burned_trace=trace[1000:]"
      ],
      "execution_count": null,
      "outputs": [
        {
          "output_type": "stream",
          "name": "stderr",
          "text": [
            "/usr/local/lib/python3.7/dist-packages/ipykernel_launcher.py:17: FutureWarning: In v4.0, pm.sample will return an `arviz.InferenceData` object instead of a `MultiTrace` by default. You can pass return_inferencedata=True or return_inferencedata=False to be safe and silence this warning.\n",
            "Sequential sampling (2 chains in 1 job)\n",
            "CompoundStep\n",
            ">Metropolis: [mu_Y]\n",
            ">Metropolis: [mu_X]\n"
          ]
        },
        {
          "output_type": "display_data",
          "data": {
            "text/html": [
              "\n",
              "    <div>\n",
              "        <style>\n",
              "            /* Turns off some styling */\n",
              "            progress {\n",
              "                /* gets rid of default border in Firefox and Opera. */\n",
              "                border: none;\n",
              "                /* Needs to be in here for Safari polyfill so background images work as expected. */\n",
              "                background-size: auto;\n",
              "            }\n",
              "            .progress-bar-interrupted, .progress-bar-interrupted::-webkit-progress-bar {\n",
              "                background: #F44336;\n",
              "            }\n",
              "        </style>\n",
              "      <progress value='21000' class='' max='21000' style='width:300px; height:20px; vertical-align: middle;'></progress>\n",
              "      100.00% [21000/21000 00:08<00:00 Sampling chain 0, 0 divergences]\n",
              "    </div>\n",
              "    "
            ],
            "text/plain": [
              "<IPython.core.display.HTML object>"
            ]
          },
          "metadata": {}
        },
        {
          "output_type": "stream",
          "name": "stderr",
          "text": [
            "/usr/local/lib/python3.7/dist-packages/pymc3/step_methods/metropolis.py:226: RuntimeWarning: overflow encountered in exp\n",
            "  \"accept\": np.exp(accept),\n"
          ]
        },
        {
          "output_type": "display_data",
          "data": {
            "text/html": [
              "\n",
              "    <div>\n",
              "        <style>\n",
              "            /* Turns off some styling */\n",
              "            progress {\n",
              "                /* gets rid of default border in Firefox and Opera. */\n",
              "                border: none;\n",
              "                /* Needs to be in here for Safari polyfill so background images work as expected. */\n",
              "                background-size: auto;\n",
              "            }\n",
              "            .progress-bar-interrupted, .progress-bar-interrupted::-webkit-progress-bar {\n",
              "                background: #F44336;\n",
              "            }\n",
              "        </style>\n",
              "      <progress value='21000' class='' max='21000' style='width:300px; height:20px; vertical-align: middle;'></progress>\n",
              "      100.00% [21000/21000 00:08<00:00 Sampling chain 1, 0 divergences]\n",
              "    </div>\n",
              "    "
            ],
            "text/plain": [
              "<IPython.core.display.HTML object>"
            ]
          },
          "metadata": {}
        },
        {
          "output_type": "stream",
          "name": "stderr",
          "text": [
            "Sampling 2 chains for 1_000 tune and 20_000 draw iterations (2_000 + 40_000 draws total) took 17 seconds.\n",
            "The rhat statistic is larger than 1.05 for some parameters. This indicates slight problems during sampling.\n",
            "The estimated number of effective samples is smaller than 200 for some parameters.\n"
          ]
        }
      ]
    },
    {
      "cell_type": "code",
      "metadata": {
        "colab": {
          "base_uri": "https://localhost:8080/"
        },
        "id": "5L1XU5TP00G-",
        "outputId": "e6c910dc-9ff6-4794-ace8-efc94cc7c0f6"
      },
      "source": [
        "burned_trace['delta'].shape"
      ],
      "execution_count": null,
      "outputs": [
        {
          "output_type": "execute_result",
          "data": {
            "text/plain": [
              "(38000,)"
            ]
          },
          "metadata": {},
          "execution_count": 58
        }
      ]
    },
    {
      "cell_type": "code",
      "metadata": {
        "colab": {
          "base_uri": "https://localhost:8080/",
          "height": 729
        },
        "id": "rGz4yuTWqns2",
        "outputId": "aebe101b-048f-4a12-b56e-7aef9594b523"
      },
      "source": [
        "X_samples = burned_trace[\"mu_X\"]\n",
        "Y_samples = burned_trace[\"mu_Y\"]\n",
        "delta_samples = burned_trace[\"delta\"]\n",
        "\n",
        "plt.figure(figsize=(15, 10))\n",
        "ax = plt.subplot(311)\n",
        "\n",
        "plt.hist(X_samples, histtype='stepfilled', bins=25, alpha=0.85, label=\"Posterior de $\\mu_X$\", color=\"#A60628\", density=True)\n",
        "plt.vlines(X['Rating'].mean(), 0, 15, linestyle=\"--\", label=\"$\\mu_X$ frequentista\")\n",
        "plt.legend(loc=\"upper right\")\n",
        "plt.title(r'Distribuições a posteriori de $\\mu_X$, $\\mu_Y$, e da diferença $\\mu_X - \\mu_Y$')\n",
        "\n",
        "ax = plt.subplot(312)\n",
        "\n",
        "plt.hist(Y_samples, histtype='stepfilled', bins=25, alpha=0.85, label=\"Posterior de $\\mu_Y$\", color=\"#467821\", density=True)\n",
        "plt.vlines( Y['Rating'].mean(), 0, 120, linestyle=\"--\", label=\"$\\mu_Y$ frequentista\")\n",
        "plt.legend(loc=\"upper right\")\n",
        "\n",
        "ax = plt.subplot(313)\n",
        "plt.hist(delta_samples, histtype='stepfilled', bins=30, alpha=0.85, label=\"Posterior da diferença\", color=\"#7A68A6\", density=True)\n",
        "plt.vlines(X['Rating'].mean() - Y['Rating'].mean(), 0, 20, linestyle=\"--\", label=\"$\\mu_X - \\mu_Y$ frequentista\")\n",
        "plt.legend(loc=\"upper right\")\n",
        "plt.tight_layout()\n",
        "plt.show()"
      ],
      "execution_count": null,
      "outputs": [
        {
          "output_type": "display_data",
          "data": {
            "image/png": "[encoded data removed]",
            "text/plain": [
              "<Figure size 1080x720 with 3 Axes>"
            ]
          },
          "metadata": {
            "needs_background": "light"
          }
        }
      ]
    },
    {
      "cell_type": "code",
      "metadata": {
        "colab": {
          "base_uri": "https://localhost:8080/",
          "height": 319
        },
        "id": "aykMXYdXuUVh",
        "outputId": "287eced0-4b78-4d3e-c795-ea3d8c5b26dd"
      },
      "source": [
        "import seaborn as sns\n",
        "\n",
        "plt.figure(figsize=(15,5))\n",
        "sns.kdeplot(X_samples, color=\"#A60628\", label='Brasil')\n",
        "sns.kdeplot(Y_samples, color=\"#467821\", label='Mundo')\n",
        "plt.legend(loc='best',fontsize=14)\n",
        "plt.show()"
      ],
      "execution_count": null,
      "outputs": [
        {
          "output_type": "display_data",
          "data": {
            "image/png": "[encoded data removed]",
            "text/plain": [
              "<Figure size 1080x360 with 1 Axes>"
            ]
          },
          "metadata": {
            "needs_background": "light"
          }
        }
      ]
    },
    {
      "cell_type": "code",
      "metadata": {
        "colab": {
          "base_uri": "https://localhost:8080/",
          "height": 319
        },
        "id": "zhoXH7e3ydg5",
        "outputId": "0171bac9-117a-46c2-bd21-a7e238319358"
      },
      "source": [
        "plt.figure(figsize=(10,10))\n",
        "\n",
        "ax = plt.subplot(211)\n",
        "sns.kdeplot(X_samples, color=\"#A60628\", label='Brasil')\n",
        "plt.legend(loc='best',fontsize=14)\n",
        "\n",
        "ax = plt.subplot(212)\n",
        "sns.kdeplot(Y_samples, color=\"#467821\", label='Mundo')\n",
        "plt.legend(loc='best',fontsize=14)\n",
        "plt.show()"
      ],
      "execution_count": null,
      "outputs": [
        {
          "output_type": "display_data",
          "data": {
            "image/png": "[encoded data removed]",
            "text/plain": [
              "<Figure size 1080x360 with 2 Axes>"
            ]
          },
          "metadata": {
            "needs_background": "light"
          }
        }
      ]
    },
    {
      "cell_type": "markdown",
      "metadata": {
        "id": "CdoWUBfIRyGO"
      },
      "source": [
        "Há uma incerteza muito maior na distribuição dos jogadores do Brasil, a qual pode ser observada pela altura da distribuição e consequentemente pela largura da curva sobre o eixo de suporte. Isso ocorre pois o número de elementos no conjunto de dados de jogadores brasileiros é muito menor se comparado ao conjunto de jogadores no restante do mundo, fazendo com que a confiabilidade da distribuição dessa primeira população seja menor."
      ]
    }
  ]
}